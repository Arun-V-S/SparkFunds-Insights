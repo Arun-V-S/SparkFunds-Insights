{
 "cells": [
  {
   "cell_type": "markdown",
   "metadata": {},
   "source": [
    "# Investment Case Study"
   ]
  },
  {
   "cell_type": "code",
   "execution_count": 75,
   "metadata": {},
   "outputs": [],
   "source": [
    "import pandas as pd\n",
    "companies = pd.read_csv('./companies.txt', sep='\\t' ,encoding = \"ISO-8859-1\")\n",
    "rounds2 = pd.read_csv('./rounds2.csv', encoding = \"ISO-8859-1\")"
   ]
  },
  {
   "cell_type": "code",
   "execution_count": 76,
   "metadata": {},
   "outputs": [
    {
     "data": {
      "text/plain": [
       "66370"
      ]
     },
     "execution_count": 76,
     "metadata": {},
     "output_type": "execute_result"
    }
   ],
   "source": [
    "rounds2['company_permalink'] = rounds2['company_permalink'].str.lower()\n",
    "len(rounds2['company_permalink'].unique().tolist())"
   ]
  },
  {
   "cell_type": "markdown",
   "metadata": {},
   "source": [
    "Unique companies are present in 'rounds2' dataframe - 66370"
   ]
  },
  {
   "cell_type": "code",
   "execution_count": 77,
   "metadata": {},
   "outputs": [
    {
     "data": {
      "text/plain": [
       "66368"
      ]
     },
     "execution_count": 77,
     "metadata": {},
     "output_type": "execute_result"
    }
   ],
   "source": [
    "companies['permalink'] = companies['permalink'].str.lower()\n",
    "len(companies['permalink'].unique().tolist())"
   ]
  },
  {
   "cell_type": "markdown",
   "metadata": {},
   "source": [
    "Unique companies are present in 'companies' dataframe - 66368"
   ]
  },
  {
   "cell_type": "markdown",
   "metadata": {},
   "source": [
    "In the companies data frame, column 'permalink' can be used as the unique key for each company.\n",
    "There are companies in the rounds2 file which are not present in companies."
   ]
  },
  {
   "cell_type": "markdown",
   "metadata": {},
   "source": [
    "master_frame - Merging two dataframes"
   ]
  },
  {
   "cell_type": "code",
   "execution_count": 78,
   "metadata": {},
   "outputs": [
    {
     "name": "stdout",
     "output_type": "stream",
     "text": [
      "                                                permalink  \\\n",
      "0                                     /organization/-fame   \n",
      "1                                  /organization/-qounter   \n",
      "2                                  /organization/-qounter   \n",
      "3                     /organization/-the-one-of-them-inc-   \n",
      "4                                   /organization/0-6-com   \n",
      "5                          /organization/004-technologies   \n",
      "6                        /organization/01games-technology   \n",
      "7                     /organization/0ndine-biomedical-inc   \n",
      "8                     /organization/0ndine-biomedical-inc   \n",
      "9                                    /organization/0xdata   \n",
      "10                                   /organization/0xdata   \n",
      "11                                   /organization/0xdata   \n",
      "12                                   /organization/0xdata   \n",
      "13                                        /organization/1   \n",
      "14                                        /organization/1   \n",
      "15                                        /organization/1   \n",
      "16                              /organization/1-2-3-listo   \n",
      "17                                  /organization/1-4-all   \n",
      "18                         /organization/1-618-technology   \n",
      "19                            /organization/1-800-dentist   \n",
      "20                            /organization/1-800-doctors   \n",
      "21               /organization/1-800-publicrelations-inc-   \n",
      "22                             /organization/1-mainstream   \n",
      "23                                  /organization/1-of-99   \n",
      "24                              /organization/10-20-media   \n",
      "25                              /organization/10-20-media   \n",
      "26                              /organization/10-20-media   \n",
      "27                              /organization/10-20-media   \n",
      "28                          /organization/10-minutes-with   \n",
      "29                          /organization/10-minutes-with   \n",
      "...                                                   ...   \n",
      "114912                              /organization/zynstra   \n",
      "114913                           /organization/zyomyx-inc   \n",
      "114914                           /organization/zyomyx-inc   \n",
      "114915                           /organization/zyomyx-inc   \n",
      "114916                           /organization/zyomyx-inc   \n",
      "114917                                 /organization/zype   \n",
      "114918                                 /organization/zype   \n",
      "114919                               /organization/zypsee   \n",
      "114920                               /organization/zypsee   \n",
      "114921                     /organization/zyraz-technology   \n",
      "114922                     /organization/zyraz-technology   \n",
      "114923                     /organization/zyraz-technology   \n",
      "114924                     /organization/zyraz-technology   \n",
      "114925                                /organization/zyrra   \n",
      "114926                                /organization/zyrra   \n",
      "114927                                /organization/zyrra   \n",
      "114928                                /organization/zyrra   \n",
      "114929                               /organization/zystor   \n",
      "114930                           /organization/zytoprotec   \n",
      "114931                                /organization/zzish   \n",
      "114932                                /organization/zzish   \n",
      "114933                                /organization/zzish   \n",
      "114934  /organization/zznode-science-and-technology-co...   \n",
      "114935                          /organization/zzzzapp-com   \n",
      "114936                          /organization/zzzzapp-com   \n",
      "114937                          /organization/zzzzapp-com   \n",
      "114938                          /organization/zzzzapp-com   \n",
      "114939                               /organization/ãeron   \n",
      "114940                             /organization/ãasys-2   \n",
      "114941  /organization/ä°novatiff-reklam-ve-tanä±tä±m-h...   \n",
      "\n",
      "                                                 name  \\\n",
      "0                                               #fame   \n",
      "1                                            :Qounter   \n",
      "2                                            :Qounter   \n",
      "3                              (THE) ONE of THEM,Inc.   \n",
      "4                                             0-6.com   \n",
      "5                                    004 Technologies   \n",
      "6                                  01Games Technology   \n",
      "7                              Ondine Biomedical Inc.   \n",
      "8                              Ondine Biomedical Inc.   \n",
      "9                                              H2O.ai   \n",
      "10                                             H2O.ai   \n",
      "11                                             H2O.ai   \n",
      "12                                             H2O.ai   \n",
      "13                                           One Inc.   \n",
      "14                                           One Inc.   \n",
      "15                                           One Inc.   \n",
      "16                                        1,2,3 Listo   \n",
      "17                                            1-4 All   \n",
      "18                                   1.618 Technology   \n",
      "19                                      1-800-DENTIST   \n",
      "20                                      1-800-DOCTORS   \n",
      "21                        1-800-PublicRelations, Inc.   \n",
      "22                                       1 Mainstream   \n",
      "23                                            1 of 99   \n",
      "24                                        10-20 Media   \n",
      "25                                        10-20 Media   \n",
      "26                                        10-20 Media   \n",
      "27                                        10-20 Media   \n",
      "28                                    10 Minutes With   \n",
      "29                                    10 Minutes With   \n",
      "...                                               ...   \n",
      "114912                                        Zynstra   \n",
      "114913                                         ZYOMYX   \n",
      "114914                                         ZYOMYX   \n",
      "114915                                         ZYOMYX   \n",
      "114916                                         ZYOMYX   \n",
      "114917                                           Zype   \n",
      "114918                                           Zype   \n",
      "114919                        Whisk (formerly Zypsee)   \n",
      "114920                        Whisk (formerly Zypsee)   \n",
      "114921                               Zyraz Technology   \n",
      "114922                               Zyraz Technology   \n",
      "114923                               Zyraz Technology   \n",
      "114924                               Zyraz Technology   \n",
      "114925                                          Zyrra   \n",
      "114926                                          Zyrra   \n",
      "114927                                          Zyrra   \n",
      "114928                                          Zyrra   \n",
      "114929                                         Zystor   \n",
      "114930                                     Zytoprotec   \n",
      "114931                                          Zzish   \n",
      "114932                                          Zzish   \n",
      "114933                                          Zzish   \n",
      "114934                  ZZNode Science and Technology   \n",
      "114935                          Zzzzapp Wireless ltd.   \n",
      "114936                          Zzzzapp Wireless ltd.   \n",
      "114937                          Zzzzapp Wireless ltd.   \n",
      "114938                          Zzzzapp Wireless ltd.   \n",
      "114939                                         ÃERON   \n",
      "114940                                         Ãasys   \n",
      "114941  Ä°novatiff Reklam ve TanÄ±tÄ±m Hizmetleri Tic   \n",
      "\n",
      "                              homepage_url  \\\n",
      "0                       http://livfame.com   \n",
      "1                   http://www.qounter.com   \n",
      "2                   http://www.qounter.com   \n",
      "3                      http://oneofthem.jp   \n",
      "4                       http://www.0-6.com   \n",
      "5        http://004gmbh.de/en/004-interact   \n",
      "6                   http://www.01games.hk/   \n",
      "7                     http://ondinebio.com   \n",
      "8                     http://ondinebio.com   \n",
      "9                           http://h2o.ai/   \n",
      "10                          http://h2o.ai/   \n",
      "11                          http://h2o.ai/   \n",
      "12                          http://h2o.ai/   \n",
      "13                      http://whatis1.com   \n",
      "14                      http://whatis1.com   \n",
      "15                      http://whatis1.com   \n",
      "16                 http://www.123listo.com   \n",
      "17                                     NaN   \n",
      "18      http://www.Homeandcondogallery.com   \n",
      "19              http://www.1800dentist.com   \n",
      "20                  http://1800doctors.com   \n",
      "21      http://www.1800publicrelations.com   \n",
      "22              http://www.1mainstream.com   \n",
      "23                                     NaN   \n",
      "24               http://www.10-20media.com   \n",
      "25               http://www.10-20media.com   \n",
      "26               http://www.10-20media.com   \n",
      "27               http://www.10-20media.com   \n",
      "28                http://10minuteswith.com   \n",
      "29                http://10minuteswith.com   \n",
      "...                                    ...   \n",
      "114912              http://www.zynstra.com   \n",
      "114913               http://www.zyomyx.com   \n",
      "114914               http://www.zyomyx.com   \n",
      "114915               http://www.zyomyx.com   \n",
      "114916               http://www.zyomyx.com   \n",
      "114917                 http://www.zype.com   \n",
      "114918                 http://www.zype.com   \n",
      "114919                     http://whisk.me   \n",
      "114920                     http://whisk.me   \n",
      "114921                http://www.zyraz.com   \n",
      "114922                http://www.zyraz.com   \n",
      "114923                http://www.zyraz.com   \n",
      "114924                http://www.zyraz.com   \n",
      "114925                http://www.zyrra.com   \n",
      "114926                http://www.zyrra.com   \n",
      "114927                http://www.zyrra.com   \n",
      "114928                http://www.zyrra.com   \n",
      "114929               http://www.zystor.com   \n",
      "114930           http://www.zytoprotec.com   \n",
      "114931                http://www.zzish.com   \n",
      "114932                http://www.zzish.com   \n",
      "114933                http://www.zzish.com   \n",
      "114934               http://www.zznode.com   \n",
      "114935              http://www.zzzzapp.com   \n",
      "114936              http://www.zzzzapp.com   \n",
      "114937              http://www.zzzzapp.com   \n",
      "114938              http://www.zzzzapp.com   \n",
      "114939                http://www.aeron.hu/   \n",
      "114940                http://www.oasys.io/   \n",
      "114941                http://inovatiff.com   \n",
      "\n",
      "                                            category_list     status  \\\n",
      "0                                                   Media  operating   \n",
      "1       Application Platforms|Real Time|Social Network...  operating   \n",
      "2       Application Platforms|Real Time|Social Network...  operating   \n",
      "3                                       Apps|Games|Mobile  operating   \n",
      "4                                             Curated Web  operating   \n",
      "5                                                Software  operating   \n",
      "6                                                   Games  operating   \n",
      "7                                           Biotechnology  operating   \n",
      "8                                           Biotechnology  operating   \n",
      "9                                               Analytics  operating   \n",
      "10                                              Analytics  operating   \n",
      "11                                              Analytics  operating   \n",
      "12                                              Analytics  operating   \n",
      "13                                                 Mobile  operating   \n",
      "14                                                 Mobile  operating   \n",
      "15                                                 Mobile  operating   \n",
      "16                                             E-Commerce  operating   \n",
      "17                           Entertainment|Games|Software  operating   \n",
      "18                     Networking|Real Estate|Web Hosting  operating   \n",
      "19                                    Health and Wellness  operating   \n",
      "20                                    Health and Wellness  operating   \n",
      "21              Internet Marketing|Media|Public Relations  operating   \n",
      "22                       Apps|Cable|Distribution|Software   acquired   \n",
      "23                                    Entertainment|Games  operating   \n",
      "24                                             E-Commerce  operating   \n",
      "25                                             E-Commerce  operating   \n",
      "26                                             E-Commerce  operating   \n",
      "27                                             E-Commerce  operating   \n",
      "28                                              Education  operating   \n",
      "29                                              Education  operating   \n",
      "...                                                   ...        ...   \n",
      "114912                                           Software  operating   \n",
      "114913                                      Biotechnology  operating   \n",
      "114914                                      Biotechnology  operating   \n",
      "114915                                      Biotechnology  operating   \n",
      "114916                                      Biotechnology  operating   \n",
      "114917  Cloud Computing|Mobile Advertising|Video|Video...  operating   \n",
      "114918  Cloud Computing|Mobile Advertising|Video|Video...  operating   \n",
      "114919                              Public Transportation  operating   \n",
      "114920                              Public Transportation  operating   \n",
      "114921                                      Biotechnology     closed   \n",
      "114922                                      Biotechnology     closed   \n",
      "114923                                      Biotechnology     closed   \n",
      "114924                                      Biotechnology     closed   \n",
      "114925                                         E-Commerce  operating   \n",
      "114926                                         E-Commerce  operating   \n",
      "114927                                         E-Commerce  operating   \n",
      "114928                                         E-Commerce  operating   \n",
      "114929                                      Biotechnology   acquired   \n",
      "114930                                      Biotechnology  operating   \n",
      "114931  Analytics|Android|Developer APIs|Education|Gam...  operating   \n",
      "114932  Analytics|Android|Developer APIs|Education|Gam...  operating   \n",
      "114933  Analytics|Android|Developer APIs|Education|Gam...  operating   \n",
      "114934                                Enterprise Software  operating   \n",
      "114935        Advertising|Mobile|Web Development|Wireless  operating   \n",
      "114936        Advertising|Mobile|Web Development|Wireless  operating   \n",
      "114937        Advertising|Mobile|Web Development|Wireless  operating   \n",
      "114938        Advertising|Mobile|Web Development|Wireless  operating   \n",
      "114939                                                NaN  operating   \n",
      "114940  Consumer Electronics|Internet of Things|Teleco...  operating   \n",
      "114941                 Consumer Goods|E-Commerce|Internet  operating   \n",
      "\n",
      "       country_code state_code                 region                   city  \\\n",
      "0               IND         16                 Mumbai                 Mumbai   \n",
      "1               USA         DE             DE - Other          Delaware City   \n",
      "2               USA         DE             DE - Other          Delaware City   \n",
      "3               NaN        NaN                    NaN                    NaN   \n",
      "4               CHN         22                Beijing                Beijing   \n",
      "5               USA         IL  Springfield, Illinois              Champaign   \n",
      "6               HKG        NaN              Hong Kong              Hong Kong   \n",
      "7               CAN         BC              Vancouver              Vancouver   \n",
      "8               CAN         BC              Vancouver              Vancouver   \n",
      "9               USA         CA            SF Bay Area          Mountain View   \n",
      "10              USA         CA            SF Bay Area          Mountain View   \n",
      "11              USA         CA            SF Bay Area          Mountain View   \n",
      "12              USA         CA            SF Bay Area          Mountain View   \n",
      "13              USA         CA            SF Bay Area          San Francisco   \n",
      "14              USA         CA            SF Bay Area          San Francisco   \n",
      "15              USA         CA            SF Bay Area          San Francisco   \n",
      "16              CHL         12               Santiago             Las Condes   \n",
      "17              USA         NC             NC - Other      Connellys Springs   \n",
      "18              USA         FL                Orlando                Orlando   \n",
      "19              USA         CA            Los Angeles            Los Angeles   \n",
      "20              USA         NJ                 Newark                 Iselin   \n",
      "21              USA         NY          New York City               New York   \n",
      "22              USA         CA            SF Bay Area              Cupertino   \n",
      "23              USA         CA            SF Bay Area          Mountain View   \n",
      "24              USA         MD              Baltimore               Woodbine   \n",
      "25              USA         MD              Baltimore               Woodbine   \n",
      "26              USA         MD              Baltimore               Woodbine   \n",
      "27              USA         MD              Baltimore               Woodbine   \n",
      "28              GBR         H9                 London                 London   \n",
      "29              GBR         H9                 London                 London   \n",
      "...             ...        ...                    ...                    ...   \n",
      "114912          GBR         A4                   Bath                   Bath   \n",
      "114913          USA         MO             MO - Other                Fremont   \n",
      "114914          USA         MO             MO - Other                Fremont   \n",
      "114915          USA         MO             MO - Other                Fremont   \n",
      "114916          USA         MO             MO - Other                Fremont   \n",
      "114917          USA         NY          New York City               New York   \n",
      "114918          USA         NY          New York City               New York   \n",
      "114919          USA         NY          New York City               New York   \n",
      "114920          USA         NY          New York City               New York   \n",
      "114921          MYS         14            MYS - Other  Damansara New Village   \n",
      "114922          MYS         14            MYS - Other  Damansara New Village   \n",
      "114923          MYS         14            MYS - Other  Damansara New Village   \n",
      "114924          MYS         14            MYS - Other  Damansara New Village   \n",
      "114925          USA         MA                 Boston              Cambridge   \n",
      "114926          USA         MA                 Boston              Cambridge   \n",
      "114927          USA         MA                 Boston              Cambridge   \n",
      "114928          USA         MA                 Boston              Cambridge   \n",
      "114929          USA         WI              Milwaukee              Milwaukee   \n",
      "114930          AUT          3                 Vienna     Gerasdorf Bei Wien   \n",
      "114931          GBR         H9                 London                 London   \n",
      "114932          GBR         H9                 London                 London   \n",
      "114933          GBR         H9                 London                 London   \n",
      "114934          CHN         22                Beijing                Beijing   \n",
      "114935          HRV         15                  Split                  Split   \n",
      "114936          HRV         15                  Split                  Split   \n",
      "114937          HRV         15                  Split                  Split   \n",
      "114938          HRV         15                  Split                  Split   \n",
      "114939          NaN        NaN                    NaN                    NaN   \n",
      "114940          USA         CA            SF Bay Area          San Francisco   \n",
      "114941          NaN        NaN                    NaN                    NaN   \n",
      "\n",
      "        founded_at                          funding_round_permalink  \\\n",
      "0              NaN  /funding-round/9a01d05418af9f794eebff7ace91f638   \n",
      "1       04-09-2014  /funding-round/22dacff496eb7acb2b901dec1dfe5633   \n",
      "2       04-09-2014  /funding-round/b44fbb94153f6cdef13083530bb48030   \n",
      "3              NaN  /funding-round/650b8f704416801069bb178a1418776b   \n",
      "4       01-01-2007  /funding-round/5727accaeaa57461bd22a9bdd945382d   \n",
      "5       01-01-2010  /funding-round/1278dd4e6a37fa4b7d7e06c21b3c1830   \n",
      "6              NaN  /funding-round/7d53696f2b4f607a2f2a8cbb83d01839   \n",
      "7       01-01-1997  /funding-round/2b9d3ac293d5cdccbecff5c8cb0f327d   \n",
      "8       01-01-1997  /funding-round/954b9499724b946ad8c396a57a5f3b72   \n",
      "9       01-01-2011  /funding-round/383a9bd2c04f7038bb543ccef5ba3eae   \n",
      "10      01-01-2011  /funding-round/3bb2ee4a2d89251a10aaa735b1180e44   \n",
      "11      01-01-2011  /funding-round/ae2a174c06517c2394aed45006322a7e   \n",
      "12      01-01-2011  /funding-round/e1cfcbe1bdf4c70277c5f29a3482f24e   \n",
      "13      01-08-2011  /funding-round/03b975068632eba5bfdb937ec8c07a68   \n",
      "14      01-08-2011  /funding-round/5de6d8828aef7d925d97918d15727670   \n",
      "15      01-08-2011  /funding-round/e82464f22241715dd1a6c77241055ed1   \n",
      "16      01-01-2012  /funding-round/6de4609e894495105bc791ed64361288   \n",
      "17             NaN  /funding-round/e97a192e13ea0ee3c4f71136b4f3ec16   \n",
      "18      07-12-2013  /funding-round/83b8f4c7d37ecef5e001a5e953bf461a   \n",
      "19      01-01-1986  /funding-round/5274aacc211163fc7c86539ce94bbacc   \n",
      "20      01-01-1984  /funding-round/9eb8c7790a0c200d79e75785d1c4aa12   \n",
      "21      24-10-2013  /funding-round/11c228f58831bc7ed337ef69ecc560c2   \n",
      "22      01-03-2012  /funding-round/b952cbaf401f310927430c97b68162ea   \n",
      "23      01-12-2014  /funding-round/b5c811f561cfb5701cd5b1762120bbc3   \n",
      "24      01-01-2001  /funding-round/436874dc54b54460f99f44c06e50990a   \n",
      "25      01-01-2001  /funding-round/8025ee9c11a586eac4a234ddec7beb30   \n",
      "26      01-01-2001  /funding-round/a884bf8326b9fd59789c0f74a28dbc3b   \n",
      "27      01-01-2001  /funding-round/d205f5416ce55e126beda3ed2bf2c2cd   \n",
      "28      01-01-2013  /funding-round/0faccbbcc5818dc5326469f13f5a8ac8   \n",
      "29      01-01-2013  /funding-round/f245a74b4c54610ae843e17bdf4d1113   \n",
      "...            ...                                              ...   \n",
      "114912  30-11-2011  /funding-round/dee233b3434185c14b3352034f72d798   \n",
      "114913  01-01-1998  /funding-round/4191cb5258d3863b0212d1083881da64   \n",
      "114914  01-01-1998  /funding-round/85443f5438bfd50104b9591eabc95c94   \n",
      "114915  01-01-1998  /funding-round/b4fce7f8a13267353d57db09099800e8   \n",
      "114916  01-01-1998  /funding-round/ea5b21da6cf999ff4d5667431fe318d7   \n",
      "114917  01-01-2013  /funding-round/24e8134882bf6c4dcc385abba0acd5d9   \n",
      "114918  01-01-2013  /funding-round/c9f5097b3617c7539aa47c8b448163be   \n",
      "114919  01-01-2011  /funding-round/472c6f7940522552fcca465b8cd3deef   \n",
      "114920  01-01-2011  /funding-round/c67e22c5448435adaf5a2d101e449dde   \n",
      "114921  01-01-1994  /funding-round/3c3ae0f177e01a04deea811e1828be35   \n",
      "114922  01-01-1994  /funding-round/55f33b179dd6f4516315348c1e8350c6   \n",
      "114923  01-01-1994  /funding-round/c05aab2155e390066d51c6852ff61464   \n",
      "114924  01-01-1994  /funding-round/e949f077c943db197f20e43c2eb8d0e6   \n",
      "114925         NaN  /funding-round/2a13fa52848ace2760b224a350a76b40   \n",
      "114926         NaN  /funding-round/39baf35e59eb3efc5409cd4c5eaa50e1   \n",
      "114927         NaN  /funding-round/7a0fa791c96c9c447ee54662395beab9   \n",
      "114928         NaN  /funding-round/cc8cd96a500332d5b4f4bcbddb306099   \n",
      "114929         NaN  /funding-round/7ea37c0ff4132b084832039a9380d34e   \n",
      "114930  01-01-2007  /funding-round/0c43e717298296d2fb334fb236300f6e   \n",
      "114931  28-01-2014  /funding-round/34b560f672bebeb339a5efa3b27eae5d   \n",
      "114932  28-01-2014  /funding-round/4c82e18a8e3eab2647719d0fc27ead5f   \n",
      "114933  28-01-2014  /funding-round/73721fffc980d228f051e87422aa8732   \n",
      "114934         NaN  /funding-round/171693e1e07e0230defd8fddb6de4515   \n",
      "114935  13-05-2012  /funding-round/22ef2fafb4d20ac3aa4b86143dbf6c8e   \n",
      "114936  13-05-2012  /funding-round/6ba41360588bc6e3f77e9b50a0ebfafa   \n",
      "114937  13-05-2012  /funding-round/8f6d25b8ee4199e586484d817bceda05   \n",
      "114938  13-05-2012  /funding-round/ff1aa06ed5da186c84f101549035d4ae   \n",
      "114939  01-01-2011  /funding-round/59f4dce44723b794f21ded3daed6e4fe   \n",
      "114940  01-01-2014  /funding-round/35f09d0794651719b02bbfd859ba9ff5   \n",
      "114941         NaN  /funding-round/af942869878d2cd788ef5189b435ebc4   \n",
      "\n",
      "         funding_round_type funding_round_code   funded_at  raised_amount_usd  \n",
      "0                   venture                  B  05-01-2015         10000000.0  \n",
      "1                   venture                  A  14-10-2014                NaN  \n",
      "2                      seed                NaN  01-03-2014           700000.0  \n",
      "3                   venture                  B  30-01-2014          3406878.0  \n",
      "4                   venture                  A  19-03-2008          2000000.0  \n",
      "5                   venture                NaN  24-07-2014                NaN  \n",
      "6               undisclosed                NaN  01-07-2014            41250.0  \n",
      "7                      seed                NaN  11-09-2009            43360.0  \n",
      "8                   venture                NaN  21-12-2009           719491.0  \n",
      "9                      seed                NaN  22-05-2013          3000000.0  \n",
      "10                  venture                  B  09-11-2015         20000000.0  \n",
      "11                  venture                NaN  03-01-2013          1700000.0  \n",
      "12                  venture                  A  19-07-2014          8900000.0  \n",
      "13                     seed                NaN  05-02-2014           150000.0  \n",
      "14              undisclosed                NaN  05-02-2013                NaN  \n",
      "15                     seed                NaN  20-07-2011          1000050.0  \n",
      "16                     seed                NaN  18-02-2013            40000.0  \n",
      "17      equity_crowdfunding                NaN  21-04-2013                NaN  \n",
      "18      equity_crowdfunding                NaN  22-01-2014                NaN  \n",
      "19              undisclosed                NaN  19-08-2010                NaN  \n",
      "20         convertible_note                NaN  02-03-2011          1750000.0  \n",
      "21           private_equity                NaN  01-02-2015          6000000.0  \n",
      "22                  venture                NaN  17-03-2015          5000000.0  \n",
      "23         convertible_note                NaN  13-12-2014           100000.0  \n",
      "24           debt_financing                NaN  11-01-2011           800000.0  \n",
      "25           debt_financing                NaN  18-06-2009           500000.0  \n",
      "26           debt_financing                NaN  28-12-2011           500000.0  \n",
      "27           debt_financing                NaN  30-03-2010           250000.0  \n",
      "28                  venture                  A  09-10-2014          4000000.0  \n",
      "29                     seed                NaN  01-01-2013           400000.0  \n",
      "...                     ...                ...         ...                ...  \n",
      "114912                angel                NaN  18-09-2012          2325000.0  \n",
      "114913              venture                  B  30-06-2013         12000000.0  \n",
      "114914                grant                NaN  26-03-2014          7500000.0  \n",
      "114915              venture                NaN  11-07-2013         14219999.0  \n",
      "114916              venture                NaN  29-01-2010           555016.0  \n",
      "114917                 seed                NaN  01-04-2015          1700000.0  \n",
      "114918                 seed                NaN  27-10-2015          1600000.0  \n",
      "114919                 seed                NaN  25-09-2013          2150000.0  \n",
      "114920                 seed                NaN  26-07-2013                NaN  \n",
      "114921       private_equity                NaN  15-02-2013            20967.0  \n",
      "114922                angel                NaN  01-01-2008          2007363.0  \n",
      "114923                grant                NaN  11-09-2009          5400000.0  \n",
      "114924              venture                  A  09-10-2009          7991547.0  \n",
      "114925                 seed                NaN  15-11-2010           445000.0  \n",
      "114926                 seed                NaN  21-10-2010            50000.0  \n",
      "114927              venture                NaN  18-10-2012           140500.0  \n",
      "114928                angel                NaN  15-12-2010           875000.0  \n",
      "114929              venture                  A  16-12-2004          8500000.0  \n",
      "114930              venture                  A  29-01-2013          2686600.0  \n",
      "114931                grant                NaN  25-02-2015           400000.0  \n",
      "114932                angel                NaN  31-10-2014           400000.0  \n",
      "114933                 seed                NaN  24-03-2014           320000.0  \n",
      "114934              venture                  A  01-04-2012          1587301.0  \n",
      "114935                 seed                NaN  01-11-2011             7000.0  \n",
      "114936                 seed                NaN  01-08-2013            33149.0  \n",
      "114937     convertible_note                NaN  01-03-2014            41313.0  \n",
      "114938                 seed                NaN  01-05-2013            32842.0  \n",
      "114939              venture                  A  01-08-2014                NaN  \n",
      "114940                 seed                NaN  01-01-2015            18192.0  \n",
      "114941                grant                NaN  01-10-2013            14851.0  \n",
      "\n",
      "[114942 rows x 15 columns]\n"
     ]
    }
   ],
   "source": [
    "master_frame = pd.merge(companies, rounds2, how='inner', left_on='permalink', right_on='company_permalink')\n",
    "master_frame = master_frame.drop('company_permalink', axis=1)\n",
    "print(master_frame)"
   ]
  },
  {
   "cell_type": "markdown",
   "metadata": {},
   "source": [
    "'master_frame' dataframe has 114942 rows"
   ]
  },
  {
   "cell_type": "code",
   "execution_count": 79,
   "metadata": {},
   "outputs": [
    {
     "name": "stdout",
     "output_type": "stream",
     "text": [
      "Index(['permalink', 'name', 'homepage_url', 'category_list', 'status',\n",
      "       'country_code', 'state_code', 'region', 'city', 'founded_at',\n",
      "       'funding_round_permalink', 'funding_round_type', 'funding_round_code',\n",
      "       'funded_at', 'raised_amount_usd'],\n",
      "      dtype='object')\n"
     ]
    }
   ],
   "source": [
    "print(master_frame.columns)"
   ]
  },
  {
   "cell_type": "code",
   "execution_count": 80,
   "metadata": {},
   "outputs": [
    {
     "data": {
      "text/html": [
       "<div>\n",
       "<style scoped>\n",
       "    .dataframe tbody tr th:only-of-type {\n",
       "        vertical-align: middle;\n",
       "    }\n",
       "\n",
       "    .dataframe tbody tr th {\n",
       "        vertical-align: top;\n",
       "    }\n",
       "\n",
       "    .dataframe thead th {\n",
       "        text-align: right;\n",
       "    }\n",
       "</style>\n",
       "<table border=\"1\" class=\"dataframe\">\n",
       "  <thead>\n",
       "    <tr style=\"text-align: right;\">\n",
       "      <th></th>\n",
       "      <th>funding_round_type</th>\n",
       "      <th>raised_amount_usd</th>\n",
       "    </tr>\n",
       "  </thead>\n",
       "  <tbody>\n",
       "    <tr>\n",
       "      <th>0</th>\n",
       "      <td>angel</td>\n",
       "      <td>9.586945e+05</td>\n",
       "    </tr>\n",
       "    <tr>\n",
       "      <th>1</th>\n",
       "      <td>convertible_note</td>\n",
       "      <td>1.453439e+06</td>\n",
       "    </tr>\n",
       "    <tr>\n",
       "      <th>2</th>\n",
       "      <td>debt_financing</td>\n",
       "      <td>1.704353e+07</td>\n",
       "    </tr>\n",
       "    <tr>\n",
       "      <th>3</th>\n",
       "      <td>equity_crowdfunding</td>\n",
       "      <td>5.383682e+05</td>\n",
       "    </tr>\n",
       "    <tr>\n",
       "      <th>4</th>\n",
       "      <td>grant</td>\n",
       "      <td>4.300576e+06</td>\n",
       "    </tr>\n",
       "    <tr>\n",
       "      <th>5</th>\n",
       "      <td>non_equity_assistance</td>\n",
       "      <td>4.112031e+05</td>\n",
       "    </tr>\n",
       "    <tr>\n",
       "      <th>6</th>\n",
       "      <td>post_ipo_debt</td>\n",
       "      <td>1.687046e+08</td>\n",
       "    </tr>\n",
       "    <tr>\n",
       "      <th>7</th>\n",
       "      <td>post_ipo_equity</td>\n",
       "      <td>8.218249e+07</td>\n",
       "    </tr>\n",
       "    <tr>\n",
       "      <th>8</th>\n",
       "      <td>private_equity</td>\n",
       "      <td>7.330859e+07</td>\n",
       "    </tr>\n",
       "    <tr>\n",
       "      <th>9</th>\n",
       "      <td>product_crowdfunding</td>\n",
       "      <td>1.363131e+06</td>\n",
       "    </tr>\n",
       "    <tr>\n",
       "      <th>10</th>\n",
       "      <td>secondary_market</td>\n",
       "      <td>7.964963e+07</td>\n",
       "    </tr>\n",
       "    <tr>\n",
       "      <th>11</th>\n",
       "      <td>seed</td>\n",
       "      <td>7.197796e+05</td>\n",
       "    </tr>\n",
       "    <tr>\n",
       "      <th>12</th>\n",
       "      <td>undisclosed</td>\n",
       "      <td>1.924237e+07</td>\n",
       "    </tr>\n",
       "    <tr>\n",
       "      <th>13</th>\n",
       "      <td>venture</td>\n",
       "      <td>1.174895e+07</td>\n",
       "    </tr>\n",
       "  </tbody>\n",
       "</table>\n",
       "</div>"
      ],
      "text/plain": [
       "       funding_round_type  raised_amount_usd\n",
       "0                   angel       9.586945e+05\n",
       "1        convertible_note       1.453439e+06\n",
       "2          debt_financing       1.704353e+07\n",
       "3     equity_crowdfunding       5.383682e+05\n",
       "4                   grant       4.300576e+06\n",
       "5   non_equity_assistance       4.112031e+05\n",
       "6           post_ipo_debt       1.687046e+08\n",
       "7         post_ipo_equity       8.218249e+07\n",
       "8          private_equity       7.330859e+07\n",
       "9    product_crowdfunding       1.363131e+06\n",
       "10       secondary_market       7.964963e+07\n",
       "11                   seed       7.197796e+05\n",
       "12            undisclosed       1.924237e+07\n",
       "13                venture       1.174895e+07"
      ]
     },
     "execution_count": 80,
     "metadata": {},
     "output_type": "execute_result"
    }
   ],
   "source": [
    "import numpy as np\n",
    "#Removing rows that has invalid 'raised_amount_used'\n",
    "master_frame = master_frame[~np.isnan(master_frame['raised_amount_usd'])]\n",
    "master_frame.groupby('funding_round_type', as_index=False)['raised_amount_usd'].mean()"
   ]
  },
  {
   "cell_type": "markdown",
   "metadata": {},
   "source": [
    "# Venture is the most suitable investment type for Spark Funds as it is the highest in the range 5 - 15 million USD. Let us verify using plots as well as plots speak more than words"
   ]
  },
  {
   "cell_type": "code",
   "execution_count": 81,
   "metadata": {},
   "outputs": [
    {
     "data": {
      "text/plain": [
       "permalink                   0.00\n",
       "name                        0.00\n",
       "homepage_url                4.56\n",
       "category_list               1.10\n",
       "status                      0.00\n",
       "country_code                6.16\n",
       "state_code                  8.01\n",
       "region                      7.42\n",
       "city                        7.42\n",
       "founded_at                 16.81\n",
       "funding_round_permalink     0.00\n",
       "funding_round_type          0.00\n",
       "funding_round_code         70.34\n",
       "funded_at                   0.00\n",
       "raised_amount_usd           0.00\n",
       "dtype: float64"
      ]
     },
     "execution_count": 81,
     "metadata": {},
     "output_type": "execute_result"
    }
   ],
   "source": [
    "round(100*(master_frame.isnull().sum()/len(master_frame.index)), 2)"
   ]
  },
  {
   "cell_type": "code",
   "execution_count": 82,
   "metadata": {},
   "outputs": [],
   "source": [
    "#Observing lots of Nan in 'funding_round_code', 'founded_at'. Also the column seems not important.\n",
    "master_frame = master_frame.drop('funding_round_code', axis=1)\n",
    "master_frame = master_frame.drop('founded_at', axis=1)"
   ]
  },
  {
   "cell_type": "code",
   "execution_count": 83,
   "metadata": {},
   "outputs": [
    {
     "data": {
      "text/plain": [
       "permalink                  0.00\n",
       "name                       0.00\n",
       "category_list              1.10\n",
       "status                     0.00\n",
       "country_code               6.16\n",
       "funding_round_permalink    0.00\n",
       "funding_round_type         0.00\n",
       "funded_at                  0.00\n",
       "raised_amount_usd          0.00\n",
       "dtype: float64"
      ]
     },
     "execution_count": 83,
     "metadata": {},
     "output_type": "execute_result"
    }
   ],
   "source": [
    "# Also these columns don't have importance\n",
    "master_frame = master_frame.drop('homepage_url', axis=1)\n",
    "master_frame = master_frame.drop('state_code', axis=1)\n",
    "master_frame = master_frame.drop('region', axis=1)\n",
    "master_frame = master_frame.drop('city', axis=1)\n",
    "round(100*(master_frame.isnull().sum()/len(master_frame.index)), 2)"
   ]
  },
  {
   "cell_type": "markdown",
   "metadata": {},
   "source": [
    "'country_code' and 'category_list' have some missing values. We cannot drop the column or row as the columns of these two tables are important. But can impute the values to reach to the state there is no null values i.e NaN"
   ]
  },
  {
   "cell_type": "code",
   "execution_count": 84,
   "metadata": {},
   "outputs": [
    {
     "data": {
      "text/plain": [
       "permalink                  0.0\n",
       "name                       0.0\n",
       "category_list              0.0\n",
       "status                     0.0\n",
       "country_code               0.0\n",
       "funding_round_permalink    0.0\n",
       "funding_round_type         0.0\n",
       "funded_at                  0.0\n",
       "raised_amount_usd          0.0\n",
       "dtype: float64"
      ]
     },
     "execution_count": 84,
     "metadata": {},
     "output_type": "execute_result"
    }
   ],
   "source": [
    "master_frame.loc[pd.isnull(master_frame['country_code']), ['country_code']] = 'NOT_AVAILABLE'\n",
    "master_frame.loc[pd.isnull(master_frame['category_list']), ['category_list']] = 'NOT_AVAILABLE'\n",
    "round(100*(master_frame.isnull().sum()/len(master_frame.index)), 2)"
   ]
  },
  {
   "cell_type": "code",
   "execution_count": 85,
   "metadata": {},
   "outputs": [
    {
     "data": {
      "text/plain": [
       "(80626, 9)"
      ]
     },
     "execution_count": 85,
     "metadata": {},
     "output_type": "execute_result"
    }
   ],
   "source": [
    "#Interested in only 4 funding_round_type. Hence we can still reduce the master_frame\n",
    "master_frame = master_frame[master_frame['funding_round_type'].isin(['venture', 'angel', 'seed', 'private_equity'])]\n",
    "master_frame.shape"
   ]
  },
  {
   "cell_type": "code",
   "execution_count": 86,
   "metadata": {},
   "outputs": [
    {
     "data": {
      "image/png": "[encoded data removed]",
      "text/plain": [
       "<Figure size 720x360 with 1 Axes>"
      ]
     },
     "metadata": {
      "needs_background": "light"
     },
     "output_type": "display_data"
    }
   ],
   "source": [
    "import matplotlib.pyplot as plt\n",
    "import seaborn as sns\n",
    "plt.figure(figsize=(10, 5))\n",
    "sns.boxplot(x='funding_round_type', y='raised_amount_usd', data=master_frame)\n",
    "plt.yscale('log')\n",
    "plt.title('Raised Anount Vs Funding Type')\n",
    "plt.xlabel('Funding Round Type')\n",
    "plt.ylabel('Raised Amount (USD)')\n",
    "plt.axhline(y=5000000, linewidth=2, color = 'r')\n",
    "plt.axhline(y=15000000, linewidth=2, color = 'r')\n",
    "plt.show()"
   ]
  },
  {
   "cell_type": "code",
   "execution_count": 87,
   "metadata": {},
   "outputs": [
    {
     "name": "stderr",
     "output_type": "stream",
     "text": [
      "/anaconda3/lib/python3.7/site-packages/scipy/stats/stats.py:1713: FutureWarning: Using a non-tuple sequence for multidimensional indexing is deprecated; use `arr[tuple(seq)]` instead of `arr[seq]`. In the future this will be interpreted as an array index, `arr[np.array(seq)]`, which will result either in an error or a different result.\n",
      "  return np.add.reduce(sorted[indexer] * weights, axis=axis) / sumval\n"
     ]
    },
    {
     "data": {
      "image/png": "[encoded data removed]",
      "text/plain": [
       "<Figure size 720x360 with 1 Axes>"
      ]
     },
     "metadata": {
      "needs_background": "light"
     },
     "output_type": "display_data"
    }
   ],
   "source": [
    "plt.figure(figsize=(10, 5))\n",
    "sns.barplot(x='funding_round_type', y='raised_amount_usd', data=master_frame)\n",
    "plt.yscale('log')\n",
    "plt.title('Raised Anount Vs Funding Type')\n",
    "plt.xlabel('Funding Round Type')\n",
    "plt.ylabel('Raised Amount (USD)')\n",
    "plt.axhline(y=5000000, linewidth=2, color = 'r')\n",
    "plt.axhline(y=15000000, linewidth=2, color = 'r')\n",
    "plt.show()"
   ]
  },
  {
   "cell_type": "markdown",
   "metadata": {},
   "source": [
    "# Hence we can conclude Venture is the best fit to invest as the budget is between 5 to 15M USD"
   ]
  },
  {
   "cell_type": "code",
   "execution_count": 88,
   "metadata": {},
   "outputs": [
    {
     "name": "stdout",
     "output_type": "stream",
     "text": [
      "                                                permalink  \\\n",
      "0                                     /organization/-fame   \n",
      "3                     /organization/-the-one-of-them-inc-   \n",
      "4                                   /organization/0-6-com   \n",
      "8                     /organization/0ndine-biomedical-inc   \n",
      "10                                   /organization/0xdata   \n",
      "11                                   /organization/0xdata   \n",
      "12                                   /organization/0xdata   \n",
      "22                             /organization/1-mainstream   \n",
      "28                          /organization/10-minutes-with   \n",
      "34                             /organization/1000memories   \n",
      "38                          /organization/1000museums-com   \n",
      "39                          /organization/1000museums-com   \n",
      "41                          /organization/1000museums-com   \n",
      "44                          /organization/1000museums-com   \n",
      "46                               /organization/1001-menus   \n",
      "47                               /organization/1001-menus   \n",
      "49                               /organization/1001-menus   \n",
      "50                       /organization/1001pharmacies-com   \n",
      "52                                  /organization/1006-tv   \n",
      "55                                 /organization/100du-tv   \n",
      "56                                 /organization/100e-com   \n",
      "57                                 /organization/100e-com   \n",
      "59                                /organization/100health   \n",
      "61                                  /organization/100plus   \n",
      "62                                 /organization/1010data   \n",
      "73                             /organization/10x-genomics   \n",
      "74                         /organization/10x-technologies   \n",
      "80                                    /organization/117go   \n",
      "81                            /organization/11i-solutions   \n",
      "95                                /organization/1234enter   \n",
      "...                                                   ...   \n",
      "114879                              /organization/zymetis   \n",
      "114882                            /organization/zymeworks   \n",
      "114883                            /organization/zymeworks   \n",
      "114884                            /organization/zymeworks   \n",
      "114885                            /organization/zymeworks   \n",
      "114886                            /organization/zymeworks   \n",
      "114887                            /organization/zymeworks   \n",
      "114893                                /organization/zyncd   \n",
      "114895                               /organization/zyncro   \n",
      "114896                               /organization/zyncro   \n",
      "114897              /organization/zynerba-pharmaceuticals   \n",
      "114899                                /organization/zynga   \n",
      "114900                                /organization/zynga   \n",
      "114901                                /organization/zynga   \n",
      "114902                                /organization/zynga   \n",
      "114903                                /organization/zynga   \n",
      "114904                                /organization/zynga   \n",
      "114905                                /organization/zynga   \n",
      "114907                                /organization/zynga   \n",
      "114908                             /organization/zyngenia   \n",
      "114909                              /organization/zynstra   \n",
      "114910                              /organization/zynstra   \n",
      "114913                           /organization/zyomyx-inc   \n",
      "114915                           /organization/zyomyx-inc   \n",
      "114916                           /organization/zyomyx-inc   \n",
      "114924                     /organization/zyraz-technology   \n",
      "114927                                /organization/zyrra   \n",
      "114929                               /organization/zystor   \n",
      "114930                           /organization/zytoprotec   \n",
      "114934  /organization/zznode-science-and-technology-co...   \n",
      "\n",
      "                                 name  \\\n",
      "0                               #fame   \n",
      "3              (THE) ONE of THEM,Inc.   \n",
      "4                             0-6.com   \n",
      "8              Ondine Biomedical Inc.   \n",
      "10                             H2O.ai   \n",
      "11                             H2O.ai   \n",
      "12                             H2O.ai   \n",
      "22                       1 Mainstream   \n",
      "28                    10 Minutes With   \n",
      "34                       1000memories   \n",
      "38                    1000museums.com   \n",
      "39                    1000museums.com   \n",
      "41                    1000museums.com   \n",
      "44                    1000museums.com   \n",
      "46                            ZenChef   \n",
      "47                            ZenChef   \n",
      "49                            ZenChef   \n",
      "50                 1001pharmacies.com   \n",
      "52                            1006.tv   \n",
      "55                           100du.tv   \n",
      "56                           100e.com   \n",
      "57                           100e.com   \n",
      "59                              Redox   \n",
      "61                            100Plus   \n",
      "62                           1010data   \n",
      "73                       10X Genomics   \n",
      "74                   10X Technologies   \n",
      "80                              117go   \n",
      "81                      11i Solutions   \n",
      "95                          1234ENTER   \n",
      "...                               ...   \n",
      "114879                        Zymetis   \n",
      "114882                      Zymeworks   \n",
      "114883                      Zymeworks   \n",
      "114884                      Zymeworks   \n",
      "114885                      Zymeworks   \n",
      "114886                      Zymeworks   \n",
      "114887                      Zymeworks   \n",
      "114893                          Zyncd   \n",
      "114895                         Zyncro   \n",
      "114896                         Zyncro   \n",
      "114897        Zynerba Pharmaceuticals   \n",
      "114899                          Zynga   \n",
      "114900                          Zynga   \n",
      "114901                          Zynga   \n",
      "114902                          Zynga   \n",
      "114903                          Zynga   \n",
      "114904                          Zynga   \n",
      "114905                          Zynga   \n",
      "114907                          Zynga   \n",
      "114908                       Zyngenia   \n",
      "114909                        Zynstra   \n",
      "114910                        Zynstra   \n",
      "114913                         ZYOMYX   \n",
      "114915                         ZYOMYX   \n",
      "114916                         ZYOMYX   \n",
      "114924               Zyraz Technology   \n",
      "114927                          Zyrra   \n",
      "114929                         Zystor   \n",
      "114930                     Zytoprotec   \n",
      "114934  ZZNode Science and Technology   \n",
      "\n",
      "                                            category_list     status  \\\n",
      "0                                                   Media  operating   \n",
      "3                                       Apps|Games|Mobile  operating   \n",
      "4                                             Curated Web  operating   \n",
      "8                                           Biotechnology  operating   \n",
      "10                                              Analytics  operating   \n",
      "11                                              Analytics  operating   \n",
      "12                                              Analytics  operating   \n",
      "22                       Apps|Cable|Distribution|Software   acquired   \n",
      "28                                              Education  operating   \n",
      "34                                            Curated Web   acquired   \n",
      "38                                            Curated Web  operating   \n",
      "39                                            Curated Web  operating   \n",
      "41                                            Curated Web  operating   \n",
      "44                                            Curated Web  operating   \n",
      "46                           Local Businesses|Restaurants  operating   \n",
      "47                           Local Businesses|Restaurants  operating   \n",
      "49                           Local Businesses|Restaurants  operating   \n",
      "50                                 Cosmetics|Marketplaces  operating   \n",
      "52                                            Games|Media  operating   \n",
      "55                                            Hospitality  operating   \n",
      "56                                              Education  operating   \n",
      "57                                              Education  operating   \n",
      "59      Health Care|Health Care Information Technology...  operating   \n",
      "61                                              Analytics   acquired   \n",
      "62                                               Software   acquired   \n",
      "73                               Biotechnology|Technology  operating   \n",
      "74                                          Biotechnology  operating   \n",
      "80                                          Social Travel  operating   \n",
      "81                                    Enterprise Software     closed   \n",
      "95      Advertising|Analytics|Business Services|E-Comm...  operating   \n",
      "...                                                   ...        ...   \n",
      "114879                                      Biotechnology     closed   \n",
      "114882                                      Biotechnology  operating   \n",
      "114883                                      Biotechnology  operating   \n",
      "114884                                      Biotechnology  operating   \n",
      "114885                                      Biotechnology  operating   \n",
      "114886                                      Biotechnology  operating   \n",
      "114887                                      Biotechnology  operating   \n",
      "114893                 Crowdsourcing|Knowledge Management  operating   \n",
      "114895  Cloud Computing|Enterprise 2.0|Enterprise Soft...   acquired   \n",
      "114896  Cloud Computing|Enterprise 2.0|Enterprise Soft...   acquired   \n",
      "114897                                    Pharmaceuticals        ipo   \n",
      "114899  Facebook Applications|Games|Networking|Technology        ipo   \n",
      "114900  Facebook Applications|Games|Networking|Technology        ipo   \n",
      "114901  Facebook Applications|Games|Networking|Technology        ipo   \n",
      "114902  Facebook Applications|Games|Networking|Technology        ipo   \n",
      "114903  Facebook Applications|Games|Networking|Technology        ipo   \n",
      "114904  Facebook Applications|Games|Networking|Technology        ipo   \n",
      "114905  Facebook Applications|Games|Networking|Technology        ipo   \n",
      "114907  Facebook Applications|Games|Networking|Technology        ipo   \n",
      "114908                                      Biotechnology  operating   \n",
      "114909                                           Software  operating   \n",
      "114910                                           Software  operating   \n",
      "114913                                      Biotechnology  operating   \n",
      "114915                                      Biotechnology  operating   \n",
      "114916                                      Biotechnology  operating   \n",
      "114924                                      Biotechnology     closed   \n",
      "114927                                         E-Commerce  operating   \n",
      "114929                                      Biotechnology   acquired   \n",
      "114930                                      Biotechnology  operating   \n",
      "114934                                Enterprise Software  operating   \n",
      "\n",
      "         country_code                          funding_round_permalink  \\\n",
      "0                 IND  /funding-round/9a01d05418af9f794eebff7ace91f638   \n",
      "3       NOT_AVAILABLE  /funding-round/650b8f704416801069bb178a1418776b   \n",
      "4                 CHN  /funding-round/5727accaeaa57461bd22a9bdd945382d   \n",
      "8                 CAN  /funding-round/954b9499724b946ad8c396a57a5f3b72   \n",
      "10                USA  /funding-round/3bb2ee4a2d89251a10aaa735b1180e44   \n",
      "11                USA  /funding-round/ae2a174c06517c2394aed45006322a7e   \n",
      "12                USA  /funding-round/e1cfcbe1bdf4c70277c5f29a3482f24e   \n",
      "22                USA  /funding-round/b952cbaf401f310927430c97b68162ea   \n",
      "28                GBR  /funding-round/0faccbbcc5818dc5326469f13f5a8ac8   \n",
      "34                USA  /funding-round/502bd0e50c27616995e4bdad24605ef8   \n",
      "38                USA  /funding-round/13be128d655076a025221d7fddc90d68   \n",
      "39                USA  /funding-round/6aeb32ab3fc05db2b606d7a2466e8c09   \n",
      "41                USA  /funding-round/89317984885b44f02e4befb9dc2e588c   \n",
      "44                USA  /funding-round/fd1b3064232ba9b3cfb5653a619e82e8   \n",
      "46                FRA  /funding-round/645b4cd895450b8e0268027cd7813047   \n",
      "47                FRA  /funding-round/8025123b90c1ab687f9857ffe18bfd3b   \n",
      "49                FRA  /funding-round/b6c28ea4ebe32db7083052cf87e7c368   \n",
      "50                FRA  /funding-round/a21fc4d20200f43e3a25fd9cfc7c1482   \n",
      "52                CHN  /funding-round/b6aeb7401ec6993f92a16cbca153b600   \n",
      "55                CHN  /funding-round/8797d60368bb0227f0d0ab4c72aef886   \n",
      "56                CHN  /funding-round/22a86670d1055d7bafce665b27e91871   \n",
      "57                CHN  /funding-round/a136f7eb873dfb13cec839fef7d7f51e   \n",
      "59                USA  /funding-round/502f558bee350299fd1ae503e5b9a124   \n",
      "61                USA  /funding-round/b5facb0d9dea2f0352b5834892c88c53   \n",
      "62                USA  /funding-round/482fbf992b48f5c47d0080ab7ec0cb54   \n",
      "73                USA  /funding-round/563923487783bdeb5d0b7872f3d6b99a   \n",
      "74                USA  /funding-round/39c1441d5098875a925577d0f2ad3904   \n",
      "80                CHN  /funding-round/bbbda407fa8638d944ecfdd042230c4b   \n",
      "81                USA  /funding-round/e07501ed6997290b1bef59406bc300a1   \n",
      "95      NOT_AVAILABLE  /funding-round/6343322ed785252d4c5ada444fa7d8e4   \n",
      "...               ...                                              ...   \n",
      "114879            USA  /funding-round/6d3ae270761d1bb03a53e1cbf68a8317   \n",
      "114882            CAN  /funding-round/917b2ed7b99f219fcbc660c9789482d5   \n",
      "114883            CAN  /funding-round/d51cfec3a0b6d8323d892e4fd4bb187e   \n",
      "114884            CAN  /funding-round/d7b019f508ef724ca3a851a4359a272f   \n",
      "114885            CAN  /funding-round/e4dee9b0a5fa30e650e5dea33e1faad8   \n",
      "114886            CAN  /funding-round/fd4f9cd4c2ad9c8980848491cd467f35   \n",
      "114887            CAN  /funding-round/fff65853a50d907bdf362b572076f1d1   \n",
      "114893            GBR  /funding-round/3549f5a481f83610044a4226926acf5a   \n",
      "114895            ESP  /funding-round/35310bcb0945d9d4b5ffa5482e5c87f3   \n",
      "114896            ESP  /funding-round/c8dd9ae33cc5d5a1d972b470a5955373   \n",
      "114897            USA  /funding-round/8992160f6abc8e21563e54a6e97a8922   \n",
      "114899            USA  /funding-round/1bc4f7b3a778e5abfbd7131f595f5011   \n",
      "114900            USA  /funding-round/5bebd7acdfd44138f81d162f21c532f9   \n",
      "114901            USA  /funding-round/66d64809546fe2031d3479161e3c88f9   \n",
      "114902            USA  /funding-round/72e4fdf2cfb0cdc0750f90e486722068   \n",
      "114903            USA  /funding-round/8411431b5a0389a874e3fae93016c089   \n",
      "114904            USA  /funding-round/a6ebc53cf3c0c97d1cdd075f6bbf31fa   \n",
      "114905            USA  /funding-round/cf8299f657f7fd4cf01054ee1934109c   \n",
      "114907            USA  /funding-round/eb198261da812bc8d3bf475ccec44000   \n",
      "114908            USA  /funding-round/55ec03b6fa2e812a2b4a9da5a4555752   \n",
      "114909            GBR  /funding-round/05f43b37c270f5919578281ce803de8f   \n",
      "114910            GBR  /funding-round/129127802dd48be42d6cd45f65895245   \n",
      "114913            USA  /funding-round/4191cb5258d3863b0212d1083881da64   \n",
      "114915            USA  /funding-round/b4fce7f8a13267353d57db09099800e8   \n",
      "114916            USA  /funding-round/ea5b21da6cf999ff4d5667431fe318d7   \n",
      "114924            MYS  /funding-round/e949f077c943db197f20e43c2eb8d0e6   \n",
      "114927            USA  /funding-round/7a0fa791c96c9c447ee54662395beab9   \n",
      "114929            USA  /funding-round/7ea37c0ff4132b084832039a9380d34e   \n",
      "114930            AUT  /funding-round/0c43e717298296d2fb334fb236300f6e   \n",
      "114934            CHN  /funding-round/171693e1e07e0230defd8fddb6de4515   \n",
      "\n",
      "       funding_round_type   funded_at  raised_amount_usd  \n",
      "0                 venture  05-01-2015         10000000.0  \n",
      "3                 venture  30-01-2014          3406878.0  \n",
      "4                 venture  19-03-2008          2000000.0  \n",
      "8                 venture  21-12-2009           719491.0  \n",
      "10                venture  09-11-2015         20000000.0  \n",
      "11                venture  03-01-2013          1700000.0  \n",
      "12                venture  19-07-2014          8900000.0  \n",
      "22                venture  17-03-2015          5000000.0  \n",
      "28                venture  09-10-2014          4000000.0  \n",
      "34                venture  16-02-2011          2520000.0  \n",
      "38                venture  14-10-2009           265940.0  \n",
      "39                venture  15-01-2014          2906832.0  \n",
      "41                venture  01-08-2014          1500000.0  \n",
      "44                venture  05-04-2011           642000.0  \n",
      "46                venture  04-11-2015          6602694.0  \n",
      "47                venture  13-11-2013          1736910.0  \n",
      "49                venture  25-10-2013          1800000.0  \n",
      "50                venture  09-07-2015          8900000.0  \n",
      "52                venture  31-07-2014         10000000.0  \n",
      "55                venture  07-01-2008          3000000.0  \n",
      "56                venture  01-01-2006          3000000.0  \n",
      "57                venture  01-09-2006          1500000.0  \n",
      "59                venture  20-10-2015          3530000.0  \n",
      "61                venture  02-11-2011           500000.0  \n",
      "62                venture  08-03-2010         35000000.0  \n",
      "73                venture  12-01-2015         55000000.0  \n",
      "74                venture  12-01-2015           550000.0  \n",
      "80                venture  28-04-2014         20000000.0  \n",
      "81                venture  22-03-2011          1800000.0  \n",
      "95                venture  22-11-2013           150267.0  \n",
      "...                   ...         ...                ...  \n",
      "114879            venture  11-01-2010           757464.0  \n",
      "114882            venture  22-09-2011          8100000.0  \n",
      "114883            venture  27-02-2015          1785700.0  \n",
      "114884            venture  06-09-2012         11000000.0  \n",
      "114885            venture  09-01-2014         15000000.0  \n",
      "114886            venture  13-01-2015         23988700.0  \n",
      "114887            venture  26-06-2009          3500000.0  \n",
      "114893            venture  01-09-2014           144451.0  \n",
      "114895            venture  03-02-2012          2105600.0  \n",
      "114896            venture  05-04-2011          1699920.0  \n",
      "114897            venture  14-10-2014         13000000.0  \n",
      "114899            venture  04-11-2009         15187000.0  \n",
      "114900            venture  12-10-2010          6337786.0  \n",
      "114901            venture  01-01-2008         10000000.0  \n",
      "114902            venture  18-07-2008         25000000.0  \n",
      "114903            venture  24-04-2010         15000000.0  \n",
      "114904            venture  18-02-2011        490000000.0  \n",
      "114905            venture  14-06-2010        300000000.0  \n",
      "114907            venture  12-02-2008          5026000.0  \n",
      "114908            venture  09-09-2010         25000000.0  \n",
      "114909            venture  09-07-2014          8400000.0  \n",
      "114910            venture  12-09-2013          3800000.0  \n",
      "114913            venture  30-06-2013         12000000.0  \n",
      "114915            venture  11-07-2013         14219999.0  \n",
      "114916            venture  29-01-2010           555016.0  \n",
      "114924            venture  09-10-2009          7991547.0  \n",
      "114927            venture  18-10-2012           140500.0  \n",
      "114929            venture  16-12-2004          8500000.0  \n",
      "114930            venture  29-01-2013          2686600.0  \n",
      "114934            venture  01-04-2012          1587301.0  \n",
      "\n",
      "[50228 rows x 9 columns]\n",
      "(50228, 9)\n"
     ]
    }
   ],
   "source": [
    "#Let us narrow down the master frame only to 'Venture'\n",
    "master_frame = master_frame[master_frame['funding_round_type'].isin(['venture'])]\n",
    "print(master_frame)\n",
    "print(master_frame.shape)"
   ]
  },
  {
   "cell_type": "code",
   "execution_count": 89,
   "metadata": {},
   "outputs": [
    {
     "data": {
      "text/plain": [
       "country_code\n",
       "USA              4.225108e+11\n",
       "CHN              3.983542e+10\n",
       "NOT_AVAILABLE    2.550611e+10\n",
       "GBR              2.024563e+10\n",
       "IND              1.439186e+10\n",
       "CAN              9.583332e+09\n",
       "FRA              7.259537e+09\n",
       "ISR              6.907515e+09\n",
       "DEU              6.346960e+09\n",
       "JPN              3.363677e+09\n",
       "SWE              3.254953e+09\n",
       "NLD              2.939404e+09\n",
       "CHE              2.827560e+09\n",
       "SGP              2.793918e+09\n",
       "ESP              1.835831e+09\n",
       "Name: raised_amount_usd, dtype: float64"
      ]
     },
     "execution_count": 89,
     "metadata": {},
     "output_type": "execute_result"
    }
   ],
   "source": [
    "# Find countries that have good sum of 'raised_amount_usd'\n",
    "master_frame.groupby('country_code')['raised_amount_usd'].sum().sort_values(ascending=False).head(15)"
   ]
  },
  {
   "cell_type": "code",
   "execution_count": 90,
   "metadata": {},
   "outputs": [
    {
     "data": {
      "text/plain": [
       "country_code\n",
       "USA    4.225108e+11\n",
       "CHN    3.983542e+10\n",
       "GBR    2.024563e+10\n",
       "IND    1.439186e+10\n",
       "CAN    9.583332e+09\n",
       "FRA    7.259537e+09\n",
       "ISR    6.907515e+09\n",
       "DEU    6.346960e+09\n",
       "JPN    3.363677e+09\n",
       "Name: raised_amount_usd, dtype: float64"
      ]
     },
     "execution_count": 90,
     "metadata": {},
     "output_type": "execute_result"
    }
   ],
   "source": [
    "#Finding top 9 countries\n",
    "# Excluding 'NOT_AVAILABLE' from the list of top 9 countries\n",
    "top9 = master_frame[master_frame['country_code'].isin(['USA', 'CHN', 'GBR', 'IND', 'CAN', 'FRA', 'ISR', 'DEU', 'JPN' ])]\n",
    "top9.groupby('country_code')['raised_amount_usd'].sum().sort_values(ascending=False)"
   ]
  },
  {
   "cell_type": "code",
   "execution_count": 91,
   "metadata": {},
   "outputs": [
    {
     "name": "stderr",
     "output_type": "stream",
     "text": [
      "/anaconda3/lib/python3.7/site-packages/scipy/stats/stats.py:1713: FutureWarning: Using a non-tuple sequence for multidimensional indexing is deprecated; use `arr[tuple(seq)]` instead of `arr[seq]`. In the future this will be interpreted as an array index, `arr[np.array(seq)]`, which will result either in an error or a different result.\n",
      "  return np.add.reduce(sorted[indexer] * weights, axis=axis) / sumval\n"
     ]
    },
    {
     "data": {
      "image/png": "[encoded data removed]",
      "text/plain": [
       "<Figure size 432x288 with 1 Axes>"
      ]
     },
     "metadata": {
      "needs_background": "light"
     },
     "output_type": "display_data"
    }
   ],
   "source": [
    "#Top 9 in plots\n",
    "sns.barplot(x=\"country_code\", y=\"raised_amount_usd\", data=top9, estimator=sum)\n",
    "plt.title(\"Sum of Raised amount in USD\")\n",
    "plt.xlabel('Country Code')\n",
    "plt.ylabel('Raised amount(USD)')\n",
    "plt.show()"
   ]
  },
  {
   "cell_type": "code",
   "execution_count": 92,
   "metadata": {},
   "outputs": [
    {
     "data": {
      "text/plain": [
       "country_code\n",
       "USA    4.225108e+11\n",
       "GBR    2.024563e+10\n",
       "IND    1.439186e+10\n",
       "Name: raised_amount_usd, dtype: float64"
      ]
     },
     "execution_count": 92,
     "metadata": {},
     "output_type": "execute_result"
    }
   ],
   "source": [
    "#From the top 9 companies, English speaking countries are 'USA', 'GBR', 'IND', 'CAN'. Filter out first three\n",
    "top_eng_countries = top9[top9['country_code'].isin(['USA', 'GBR', 'IND'])]\n",
    "top_eng_countries.groupby('country_code')['raised_amount_usd'].sum().sort_values(ascending=False)"
   ]
  },
  {
   "cell_type": "code",
   "execution_count": 93,
   "metadata": {},
   "outputs": [
    {
     "name": "stderr",
     "output_type": "stream",
     "text": [
      "/anaconda3/lib/python3.7/site-packages/scipy/stats/stats.py:1713: FutureWarning: Using a non-tuple sequence for multidimensional indexing is deprecated; use `arr[tuple(seq)]` instead of `arr[seq]`. In the future this will be interpreted as an array index, `arr[np.array(seq)]`, which will result either in an error or a different result.\n",
      "  return np.add.reduce(sorted[indexer] * weights, axis=axis) / sumval\n"
     ]
    },
    {
     "data": {
      "image/png": "[encoded data removed]",
      "text/plain": [
       "<Figure size 432x288 with 1 Axes>"
      ]
     },
     "metadata": {
      "needs_background": "light"
     },
     "output_type": "display_data"
    }
   ],
   "source": [
    "# Top English speaking countries in plot\n",
    "sns.barplot(x=\"country_code\", y=\"raised_amount_usd\", data=top_eng_countries, estimator=sum)\n",
    "plt.title(\"Sum of Raised amount in USD\")\n",
    "plt.xlabel('Country Code')\n",
    "plt.ylabel('Raised amount(USD)')\n",
    "plt.show()"
   ]
  },
  {
   "cell_type": "markdown",
   "metadata": {},
   "source": [
    "# Top English Speaking Countries\n",
    "# 1. USA\n",
    "# 2. GBR\n",
    "# 3. IND"
   ]
  },
  {
   "cell_type": "code",
   "execution_count": 94,
   "metadata": {},
   "outputs": [
    {
     "name": "stderr",
     "output_type": "stream",
     "text": [
      "/anaconda3/lib/python3.7/site-packages/ipykernel_launcher.py:9: SettingWithCopyWarning: \n",
      "A value is trying to be set on a copy of a slice from a DataFrame.\n",
      "Try using .loc[row_indexer,col_indexer] = value instead\n",
      "\n",
      "See the caveats in the documentation: http://pandas.pydata.org/pandas-docs/stable/indexing.html#indexing-view-versus-copy\n",
      "  if __name__ == '__main__':\n",
      "/anaconda3/lib/python3.7/site-packages/ipykernel_launcher.py:10: SettingWithCopyWarning: \n",
      "A value is trying to be set on a copy of a slice from a DataFrame.\n",
      "Try using .loc[row_indexer,col_indexer] = value instead\n",
      "\n",
      "See the caveats in the documentation: http://pandas.pydata.org/pandas-docs/stable/indexing.html#indexing-view-versus-copy\n",
      "  # Remove the CWD from sys.path while we load stuff.\n"
     ]
    },
    {
     "data": {
      "text/html": [
       "<div>\n",
       "<style scoped>\n",
       "    .dataframe tbody tr th:only-of-type {\n",
       "        vertical-align: middle;\n",
       "    }\n",
       "\n",
       "    .dataframe tbody tr th {\n",
       "        vertical-align: top;\n",
       "    }\n",
       "\n",
       "    .dataframe thead th {\n",
       "        text-align: right;\n",
       "    }\n",
       "</style>\n",
       "<table border=\"1\" class=\"dataframe\">\n",
       "  <thead>\n",
       "    <tr style=\"text-align: right;\">\n",
       "      <th></th>\n",
       "      <th>permalink</th>\n",
       "      <th>name</th>\n",
       "      <th>category_list</th>\n",
       "      <th>status</th>\n",
       "      <th>country_code</th>\n",
       "      <th>funding_round_permalink</th>\n",
       "      <th>funding_round_type</th>\n",
       "      <th>funded_at</th>\n",
       "      <th>raised_amount_usd</th>\n",
       "      <th>primary_sector</th>\n",
       "    </tr>\n",
       "  </thead>\n",
       "  <tbody>\n",
       "    <tr>\n",
       "      <th>0</th>\n",
       "      <td>/organization/-fame</td>\n",
       "      <td>#fame</td>\n",
       "      <td>Media</td>\n",
       "      <td>operating</td>\n",
       "      <td>IND</td>\n",
       "      <td>/funding-round/9a01d05418af9f794eebff7ace91f638</td>\n",
       "      <td>venture</td>\n",
       "      <td>05-01-2015</td>\n",
       "      <td>10000000.0</td>\n",
       "      <td>media</td>\n",
       "    </tr>\n",
       "    <tr>\n",
       "      <th>10</th>\n",
       "      <td>/organization/0xdata</td>\n",
       "      <td>H2O.ai</td>\n",
       "      <td>Analytics</td>\n",
       "      <td>operating</td>\n",
       "      <td>USA</td>\n",
       "      <td>/funding-round/3bb2ee4a2d89251a10aaa735b1180e44</td>\n",
       "      <td>venture</td>\n",
       "      <td>09-11-2015</td>\n",
       "      <td>20000000.0</td>\n",
       "      <td>analytics</td>\n",
       "    </tr>\n",
       "    <tr>\n",
       "      <th>11</th>\n",
       "      <td>/organization/0xdata</td>\n",
       "      <td>H2O.ai</td>\n",
       "      <td>Analytics</td>\n",
       "      <td>operating</td>\n",
       "      <td>USA</td>\n",
       "      <td>/funding-round/ae2a174c06517c2394aed45006322a7e</td>\n",
       "      <td>venture</td>\n",
       "      <td>03-01-2013</td>\n",
       "      <td>1700000.0</td>\n",
       "      <td>analytics</td>\n",
       "    </tr>\n",
       "    <tr>\n",
       "      <th>12</th>\n",
       "      <td>/organization/0xdata</td>\n",
       "      <td>H2O.ai</td>\n",
       "      <td>Analytics</td>\n",
       "      <td>operating</td>\n",
       "      <td>USA</td>\n",
       "      <td>/funding-round/e1cfcbe1bdf4c70277c5f29a3482f24e</td>\n",
       "      <td>venture</td>\n",
       "      <td>19-07-2014</td>\n",
       "      <td>8900000.0</td>\n",
       "      <td>analytics</td>\n",
       "    </tr>\n",
       "    <tr>\n",
       "      <th>22</th>\n",
       "      <td>/organization/1-mainstream</td>\n",
       "      <td>1 Mainstream</td>\n",
       "      <td>Apps|Cable|Distribution|Software</td>\n",
       "      <td>acquired</td>\n",
       "      <td>USA</td>\n",
       "      <td>/funding-round/b952cbaf401f310927430c97b68162ea</td>\n",
       "      <td>venture</td>\n",
       "      <td>17-03-2015</td>\n",
       "      <td>5000000.0</td>\n",
       "      <td>apps</td>\n",
       "    </tr>\n",
       "  </tbody>\n",
       "</table>\n",
       "</div>"
      ],
      "text/plain": [
       "                     permalink          name  \\\n",
       "0          /organization/-fame         #fame   \n",
       "10        /organization/0xdata        H2O.ai   \n",
       "11        /organization/0xdata        H2O.ai   \n",
       "12        /organization/0xdata        H2O.ai   \n",
       "22  /organization/1-mainstream  1 Mainstream   \n",
       "\n",
       "                       category_list     status country_code  \\\n",
       "0                              Media  operating          IND   \n",
       "10                         Analytics  operating          USA   \n",
       "11                         Analytics  operating          USA   \n",
       "12                         Analytics  operating          USA   \n",
       "22  Apps|Cable|Distribution|Software   acquired          USA   \n",
       "\n",
       "                            funding_round_permalink funding_round_type  \\\n",
       "0   /funding-round/9a01d05418af9f794eebff7ace91f638            venture   \n",
       "10  /funding-round/3bb2ee4a2d89251a10aaa735b1180e44            venture   \n",
       "11  /funding-round/ae2a174c06517c2394aed45006322a7e            venture   \n",
       "12  /funding-round/e1cfcbe1bdf4c70277c5f29a3482f24e            venture   \n",
       "22  /funding-round/b952cbaf401f310927430c97b68162ea            venture   \n",
       "\n",
       "     funded_at  raised_amount_usd primary_sector  \n",
       "0   05-01-2015         10000000.0          media  \n",
       "10  09-11-2015         20000000.0      analytics  \n",
       "11  03-01-2013          1700000.0      analytics  \n",
       "12  19-07-2014          8900000.0      analytics  \n",
       "22  17-03-2015          5000000.0           apps  "
      ]
     },
     "execution_count": 94,
     "metadata": {},
     "output_type": "execute_result"
    }
   ],
   "source": [
    "# Primary Sector that has multiple sub sectors. Filering out only the first value in | and assigning to 'primary_sector'\n",
    "def first_from_multiple_sub_sectors(value):\n",
    "    values = value.split('|')\n",
    "    if len(values) > 1:\n",
    "        return values[0]\n",
    "    else:\n",
    "        return value\n",
    "    \n",
    "top_eng_countries['primary_sector'] = top_eng_countries['category_list'].apply(first_from_multiple_sub_sectors)\n",
    "top_eng_countries['primary_sector'] = top_eng_countries['primary_sector'].str.lower()\n",
    "top_eng_countries.head(5)"
   ]
  },
  {
   "cell_type": "code",
   "execution_count": 95,
   "metadata": {},
   "outputs": [
    {
     "data": {
      "text/html": [
       "<div>\n",
       "<style scoped>\n",
       "    .dataframe tbody tr th:only-of-type {\n",
       "        vertical-align: middle;\n",
       "    }\n",
       "\n",
       "    .dataframe tbody tr th {\n",
       "        vertical-align: top;\n",
       "    }\n",
       "\n",
       "    .dataframe thead th {\n",
       "        text-align: right;\n",
       "    }\n",
       "</style>\n",
       "<table border=\"1\" class=\"dataframe\">\n",
       "  <thead>\n",
       "    <tr style=\"text-align: right;\">\n",
       "      <th></th>\n",
       "      <th>category_list</th>\n",
       "      <th>Automotive &amp; Sports</th>\n",
       "      <th>Blanks</th>\n",
       "      <th>Cleantech / Semiconductors</th>\n",
       "      <th>Entertainment</th>\n",
       "      <th>Health</th>\n",
       "      <th>Manufacturing</th>\n",
       "      <th>News, Search and Messaging</th>\n",
       "      <th>Others</th>\n",
       "      <th>Social, Finance, Analytics, Advertising</th>\n",
       "    </tr>\n",
       "  </thead>\n",
       "  <tbody>\n",
       "    <tr>\n",
       "      <th>0</th>\n",
       "      <td>NaN</td>\n",
       "      <td>0</td>\n",
       "      <td>1</td>\n",
       "      <td>0</td>\n",
       "      <td>0</td>\n",
       "      <td>0</td>\n",
       "      <td>0</td>\n",
       "      <td>0</td>\n",
       "      <td>0</td>\n",
       "      <td>0</td>\n",
       "    </tr>\n",
       "    <tr>\n",
       "      <th>1</th>\n",
       "      <td>3D</td>\n",
       "      <td>0</td>\n",
       "      <td>0</td>\n",
       "      <td>0</td>\n",
       "      <td>0</td>\n",
       "      <td>0</td>\n",
       "      <td>1</td>\n",
       "      <td>0</td>\n",
       "      <td>0</td>\n",
       "      <td>0</td>\n",
       "    </tr>\n",
       "    <tr>\n",
       "      <th>2</th>\n",
       "      <td>3D Printing</td>\n",
       "      <td>0</td>\n",
       "      <td>0</td>\n",
       "      <td>0</td>\n",
       "      <td>0</td>\n",
       "      <td>0</td>\n",
       "      <td>1</td>\n",
       "      <td>0</td>\n",
       "      <td>0</td>\n",
       "      <td>0</td>\n",
       "    </tr>\n",
       "    <tr>\n",
       "      <th>3</th>\n",
       "      <td>3D Technology</td>\n",
       "      <td>0</td>\n",
       "      <td>0</td>\n",
       "      <td>0</td>\n",
       "      <td>0</td>\n",
       "      <td>0</td>\n",
       "      <td>1</td>\n",
       "      <td>0</td>\n",
       "      <td>0</td>\n",
       "      <td>0</td>\n",
       "    </tr>\n",
       "    <tr>\n",
       "      <th>4</th>\n",
       "      <td>Accounting</td>\n",
       "      <td>0</td>\n",
       "      <td>0</td>\n",
       "      <td>0</td>\n",
       "      <td>0</td>\n",
       "      <td>0</td>\n",
       "      <td>0</td>\n",
       "      <td>0</td>\n",
       "      <td>0</td>\n",
       "      <td>1</td>\n",
       "    </tr>\n",
       "    <tr>\n",
       "      <th>5</th>\n",
       "      <td>Active Lifestyle</td>\n",
       "      <td>0</td>\n",
       "      <td>0</td>\n",
       "      <td>0</td>\n",
       "      <td>0</td>\n",
       "      <td>1</td>\n",
       "      <td>0</td>\n",
       "      <td>0</td>\n",
       "      <td>0</td>\n",
       "      <td>0</td>\n",
       "    </tr>\n",
       "    <tr>\n",
       "      <th>6</th>\n",
       "      <td>Ad Targeting</td>\n",
       "      <td>0</td>\n",
       "      <td>0</td>\n",
       "      <td>0</td>\n",
       "      <td>0</td>\n",
       "      <td>0</td>\n",
       "      <td>0</td>\n",
       "      <td>0</td>\n",
       "      <td>0</td>\n",
       "      <td>1</td>\n",
       "    </tr>\n",
       "    <tr>\n",
       "      <th>7</th>\n",
       "      <td>Advanced Materials</td>\n",
       "      <td>0</td>\n",
       "      <td>0</td>\n",
       "      <td>0</td>\n",
       "      <td>0</td>\n",
       "      <td>0</td>\n",
       "      <td>1</td>\n",
       "      <td>0</td>\n",
       "      <td>0</td>\n",
       "      <td>0</td>\n",
       "    </tr>\n",
       "    <tr>\n",
       "      <th>8</th>\n",
       "      <td>Adventure Travel</td>\n",
       "      <td>1</td>\n",
       "      <td>0</td>\n",
       "      <td>0</td>\n",
       "      <td>0</td>\n",
       "      <td>0</td>\n",
       "      <td>0</td>\n",
       "      <td>0</td>\n",
       "      <td>0</td>\n",
       "      <td>0</td>\n",
       "    </tr>\n",
       "    <tr>\n",
       "      <th>9</th>\n",
       "      <td>Advertising</td>\n",
       "      <td>0</td>\n",
       "      <td>0</td>\n",
       "      <td>0</td>\n",
       "      <td>0</td>\n",
       "      <td>0</td>\n",
       "      <td>0</td>\n",
       "      <td>0</td>\n",
       "      <td>0</td>\n",
       "      <td>1</td>\n",
       "    </tr>\n",
       "  </tbody>\n",
       "</table>\n",
       "</div>"
      ],
      "text/plain": [
       "        category_list  Automotive & Sports  Blanks  \\\n",
       "0                 NaN                    0       1   \n",
       "1                  3D                    0       0   \n",
       "2         3D Printing                    0       0   \n",
       "3       3D Technology                    0       0   \n",
       "4          Accounting                    0       0   \n",
       "5    Active Lifestyle                    0       0   \n",
       "6        Ad Targeting                    0       0   \n",
       "7  Advanced Materials                    0       0   \n",
       "8    Adventure Travel                    1       0   \n",
       "9         Advertising                    0       0   \n",
       "\n",
       "   Cleantech / Semiconductors  Entertainment  Health  Manufacturing  \\\n",
       "0                           0              0       0              0   \n",
       "1                           0              0       0              1   \n",
       "2                           0              0       0              1   \n",
       "3                           0              0       0              1   \n",
       "4                           0              0       0              0   \n",
       "5                           0              0       1              0   \n",
       "6                           0              0       0              0   \n",
       "7                           0              0       0              1   \n",
       "8                           0              0       0              0   \n",
       "9                           0              0       0              0   \n",
       "\n",
       "   News, Search and Messaging  Others  Social, Finance, Analytics, Advertising  \n",
       "0                           0       0                                        0  \n",
       "1                           0       0                                        0  \n",
       "2                           0       0                                        0  \n",
       "3                           0       0                                        0  \n",
       "4                           0       0                                        1  \n",
       "5                           0       0                                        0  \n",
       "6                           0       0                                        1  \n",
       "7                           0       0                                        0  \n",
       "8                           0       0                                        0  \n",
       "9                           0       0                                        1  "
      ]
     },
     "execution_count": 95,
     "metadata": {},
     "output_type": "execute_result"
    }
   ],
   "source": [
    "mapping = pd.read_csv(\"./mapping.csv\", encoding = \"ISO-8859-1\")\n",
    "mapping.head(10)"
   ]
  },
  {
   "cell_type": "code",
   "execution_count": 96,
   "metadata": {},
   "outputs": [
    {
     "data": {
      "text/html": [
       "<div>\n",
       "<style scoped>\n",
       "    .dataframe tbody tr th:only-of-type {\n",
       "        vertical-align: middle;\n",
       "    }\n",
       "\n",
       "    .dataframe tbody tr th {\n",
       "        vertical-align: top;\n",
       "    }\n",
       "\n",
       "    .dataframe thead th {\n",
       "        text-align: right;\n",
       "    }\n",
       "</style>\n",
       "<table border=\"1\" class=\"dataframe\">\n",
       "  <thead>\n",
       "    <tr style=\"text-align: right;\">\n",
       "      <th></th>\n",
       "      <th>category_list</th>\n",
       "      <th>variable</th>\n",
       "      <th>value</th>\n",
       "    </tr>\n",
       "  </thead>\n",
       "  <tbody>\n",
       "    <tr>\n",
       "      <th>8</th>\n",
       "      <td>Adventure Travel</td>\n",
       "      <td>Automotive &amp; Sports</td>\n",
       "      <td>1</td>\n",
       "    </tr>\n",
       "    <tr>\n",
       "      <th>14</th>\n",
       "      <td>Aerospace</td>\n",
       "      <td>Automotive &amp; Sports</td>\n",
       "      <td>1</td>\n",
       "    </tr>\n",
       "    <tr>\n",
       "      <th>45</th>\n",
       "      <td>Auto</td>\n",
       "      <td>Automotive &amp; Sports</td>\n",
       "      <td>1</td>\n",
       "    </tr>\n",
       "    <tr>\n",
       "      <th>46</th>\n",
       "      <td>Automated Kiosk</td>\n",
       "      <td>Automotive &amp; Sports</td>\n",
       "      <td>1</td>\n",
       "    </tr>\n",
       "    <tr>\n",
       "      <th>47</th>\n",
       "      <td>Automotive</td>\n",
       "      <td>Automotive &amp; Sports</td>\n",
       "      <td>1</td>\n",
       "    </tr>\n",
       "    <tr>\n",
       "      <th>57</th>\n",
       "      <td>Bicycles</td>\n",
       "      <td>Automotive &amp; Sports</td>\n",
       "      <td>1</td>\n",
       "    </tr>\n",
       "    <tr>\n",
       "      <th>69</th>\n",
       "      <td>Boating Industry</td>\n",
       "      <td>Automotive &amp; Sports</td>\n",
       "      <td>1</td>\n",
       "    </tr>\n",
       "    <tr>\n",
       "      <th>87</th>\n",
       "      <td>CAD</td>\n",
       "      <td>Automotive &amp; Sports</td>\n",
       "      <td>1</td>\n",
       "    </tr>\n",
       "    <tr>\n",
       "      <th>93</th>\n",
       "      <td>Cars</td>\n",
       "      <td>Automotive &amp; Sports</td>\n",
       "      <td>1</td>\n",
       "    </tr>\n",
       "    <tr>\n",
       "      <th>188</th>\n",
       "      <td>Design</td>\n",
       "      <td>Automotive &amp; Sports</td>\n",
       "      <td>1</td>\n",
       "    </tr>\n",
       "  </tbody>\n",
       "</table>\n",
       "</div>"
      ],
      "text/plain": [
       "        category_list             variable  value\n",
       "8    Adventure Travel  Automotive & Sports      1\n",
       "14          Aerospace  Automotive & Sports      1\n",
       "45               Auto  Automotive & Sports      1\n",
       "46    Automated Kiosk  Automotive & Sports      1\n",
       "47         Automotive  Automotive & Sports      1\n",
       "57           Bicycles  Automotive & Sports      1\n",
       "69   Boating Industry  Automotive & Sports      1\n",
       "87                CAD  Automotive & Sports      1\n",
       "93               Cars  Automotive & Sports      1\n",
       "188            Design  Automotive & Sports      1"
      ]
     },
     "execution_count": 96,
     "metadata": {},
     "output_type": "execute_result"
    }
   ],
   "source": [
    "mapping = pd.melt(mapping,id_vars=[\"category_list\"])\n",
    "mapping = mapping[mapping.value != 0]\n",
    "mapping.head(10)"
   ]
  },
  {
   "cell_type": "code",
   "execution_count": 97,
   "metadata": {},
   "outputs": [],
   "source": [
    "# Column value is no more needed\n",
    "mapping = mapping.drop('value', axis=1)"
   ]
  },
  {
   "cell_type": "code",
   "execution_count": 98,
   "metadata": {},
   "outputs": [
    {
     "data": {
      "text/html": [
       "<div>\n",
       "<style scoped>\n",
       "    .dataframe tbody tr th:only-of-type {\n",
       "        vertical-align: middle;\n",
       "    }\n",
       "\n",
       "    .dataframe tbody tr th {\n",
       "        vertical-align: top;\n",
       "    }\n",
       "\n",
       "    .dataframe thead th {\n",
       "        text-align: right;\n",
       "    }\n",
       "</style>\n",
       "<table border=\"1\" class=\"dataframe\">\n",
       "  <thead>\n",
       "    <tr style=\"text-align: right;\">\n",
       "      <th></th>\n",
       "      <th>primary_sector</th>\n",
       "      <th>main_sector</th>\n",
       "    </tr>\n",
       "  </thead>\n",
       "  <tbody>\n",
       "    <tr>\n",
       "      <th>8</th>\n",
       "      <td>adventure travel</td>\n",
       "      <td>Automotive &amp; Sports</td>\n",
       "    </tr>\n",
       "    <tr>\n",
       "      <th>14</th>\n",
       "      <td>aerospace</td>\n",
       "      <td>Automotive &amp; Sports</td>\n",
       "    </tr>\n",
       "    <tr>\n",
       "      <th>45</th>\n",
       "      <td>auto</td>\n",
       "      <td>Automotive &amp; Sports</td>\n",
       "    </tr>\n",
       "    <tr>\n",
       "      <th>46</th>\n",
       "      <td>automated kiosk</td>\n",
       "      <td>Automotive &amp; Sports</td>\n",
       "    </tr>\n",
       "    <tr>\n",
       "      <th>47</th>\n",
       "      <td>automotive</td>\n",
       "      <td>Automotive &amp; Sports</td>\n",
       "    </tr>\n",
       "    <tr>\n",
       "      <th>57</th>\n",
       "      <td>bicycles</td>\n",
       "      <td>Automotive &amp; Sports</td>\n",
       "    </tr>\n",
       "    <tr>\n",
       "      <th>69</th>\n",
       "      <td>boating industry</td>\n",
       "      <td>Automotive &amp; Sports</td>\n",
       "    </tr>\n",
       "    <tr>\n",
       "      <th>87</th>\n",
       "      <td>cad</td>\n",
       "      <td>Automotive &amp; Sports</td>\n",
       "    </tr>\n",
       "    <tr>\n",
       "      <th>93</th>\n",
       "      <td>cars</td>\n",
       "      <td>Automotive &amp; Sports</td>\n",
       "    </tr>\n",
       "    <tr>\n",
       "      <th>188</th>\n",
       "      <td>design</td>\n",
       "      <td>Automotive &amp; Sports</td>\n",
       "    </tr>\n",
       "  </tbody>\n",
       "</table>\n",
       "</div>"
      ],
      "text/plain": [
       "       primary_sector          main_sector\n",
       "8    adventure travel  Automotive & Sports\n",
       "14          aerospace  Automotive & Sports\n",
       "45               auto  Automotive & Sports\n",
       "46    automated kiosk  Automotive & Sports\n",
       "47         automotive  Automotive & Sports\n",
       "57           bicycles  Automotive & Sports\n",
       "69   boating industry  Automotive & Sports\n",
       "87                cad  Automotive & Sports\n",
       "93               cars  Automotive & Sports\n",
       "188            design  Automotive & Sports"
      ]
     },
     "execution_count": 98,
     "metadata": {},
     "output_type": "execute_result"
    }
   ],
   "source": [
    "# Renaming column name by matching with'top_eng_countries'\n",
    "mapping.rename(columns={'variable':'main_sector','category_list':'primary_sector'}, inplace=True)\n",
    "# Convering the column primary sector to lowercase as we need to perform join with 'top_eng_countries' (To match)\n",
    "mapping['primary_sector'] = mapping['primary_sector'].str.lower()\n",
    "mapping.head(10)\n",
    "# primary sector created in 'mapping'"
   ]
  },
  {
   "cell_type": "code",
   "execution_count": 99,
   "metadata": {},
   "outputs": [
    {
     "data": {
      "text/html": [
       "<div>\n",
       "<style scoped>\n",
       "    .dataframe tbody tr th:only-of-type {\n",
       "        vertical-align: middle;\n",
       "    }\n",
       "\n",
       "    .dataframe tbody tr th {\n",
       "        vertical-align: top;\n",
       "    }\n",
       "\n",
       "    .dataframe thead th {\n",
       "        text-align: right;\n",
       "    }\n",
       "</style>\n",
       "<table border=\"1\" class=\"dataframe\">\n",
       "  <thead>\n",
       "    <tr style=\"text-align: right;\">\n",
       "      <th></th>\n",
       "      <th>permalink</th>\n",
       "      <th>name</th>\n",
       "      <th>category_list</th>\n",
       "      <th>status</th>\n",
       "      <th>country_code</th>\n",
       "      <th>funding_round_permalink</th>\n",
       "      <th>funding_round_type</th>\n",
       "      <th>funded_at</th>\n",
       "      <th>raised_amount_usd</th>\n",
       "      <th>primary_sector</th>\n",
       "      <th>main_sector</th>\n",
       "      <th>_merge</th>\n",
       "    </tr>\n",
       "  </thead>\n",
       "  <tbody>\n",
       "    <tr>\n",
       "      <th>0</th>\n",
       "      <td>/organization/-fame</td>\n",
       "      <td>#fame</td>\n",
       "      <td>Media</td>\n",
       "      <td>operating</td>\n",
       "      <td>IND</td>\n",
       "      <td>/funding-round/9a01d05418af9f794eebff7ace91f638</td>\n",
       "      <td>venture</td>\n",
       "      <td>05-01-2015</td>\n",
       "      <td>10000000.0</td>\n",
       "      <td>media</td>\n",
       "      <td>Entertainment</td>\n",
       "      <td>both</td>\n",
       "    </tr>\n",
       "    <tr>\n",
       "      <th>1</th>\n",
       "      <td>/organization/0xdata</td>\n",
       "      <td>H2O.ai</td>\n",
       "      <td>Analytics</td>\n",
       "      <td>operating</td>\n",
       "      <td>USA</td>\n",
       "      <td>/funding-round/3bb2ee4a2d89251a10aaa735b1180e44</td>\n",
       "      <td>venture</td>\n",
       "      <td>09-11-2015</td>\n",
       "      <td>20000000.0</td>\n",
       "      <td>analytics</td>\n",
       "      <td>NaN</td>\n",
       "      <td>left_only</td>\n",
       "    </tr>\n",
       "    <tr>\n",
       "      <th>2</th>\n",
       "      <td>/organization/0xdata</td>\n",
       "      <td>H2O.ai</td>\n",
       "      <td>Analytics</td>\n",
       "      <td>operating</td>\n",
       "      <td>USA</td>\n",
       "      <td>/funding-round/ae2a174c06517c2394aed45006322a7e</td>\n",
       "      <td>venture</td>\n",
       "      <td>03-01-2013</td>\n",
       "      <td>1700000.0</td>\n",
       "      <td>analytics</td>\n",
       "      <td>NaN</td>\n",
       "      <td>left_only</td>\n",
       "    </tr>\n",
       "    <tr>\n",
       "      <th>3</th>\n",
       "      <td>/organization/0xdata</td>\n",
       "      <td>H2O.ai</td>\n",
       "      <td>Analytics</td>\n",
       "      <td>operating</td>\n",
       "      <td>USA</td>\n",
       "      <td>/funding-round/e1cfcbe1bdf4c70277c5f29a3482f24e</td>\n",
       "      <td>venture</td>\n",
       "      <td>19-07-2014</td>\n",
       "      <td>8900000.0</td>\n",
       "      <td>analytics</td>\n",
       "      <td>NaN</td>\n",
       "      <td>left_only</td>\n",
       "    </tr>\n",
       "    <tr>\n",
       "      <th>4</th>\n",
       "      <td>/organization/1-mainstream</td>\n",
       "      <td>1 Mainstream</td>\n",
       "      <td>Apps|Cable|Distribution|Software</td>\n",
       "      <td>acquired</td>\n",
       "      <td>USA</td>\n",
       "      <td>/funding-round/b952cbaf401f310927430c97b68162ea</td>\n",
       "      <td>venture</td>\n",
       "      <td>17-03-2015</td>\n",
       "      <td>5000000.0</td>\n",
       "      <td>apps</td>\n",
       "      <td>News, Search and Messaging</td>\n",
       "      <td>both</td>\n",
       "    </tr>\n",
       "  </tbody>\n",
       "</table>\n",
       "</div>"
      ],
      "text/plain": [
       "                    permalink          name                     category_list  \\\n",
       "0         /organization/-fame         #fame                             Media   \n",
       "1        /organization/0xdata        H2O.ai                         Analytics   \n",
       "2        /organization/0xdata        H2O.ai                         Analytics   \n",
       "3        /organization/0xdata        H2O.ai                         Analytics   \n",
       "4  /organization/1-mainstream  1 Mainstream  Apps|Cable|Distribution|Software   \n",
       "\n",
       "      status country_code                          funding_round_permalink  \\\n",
       "0  operating          IND  /funding-round/9a01d05418af9f794eebff7ace91f638   \n",
       "1  operating          USA  /funding-round/3bb2ee4a2d89251a10aaa735b1180e44   \n",
       "2  operating          USA  /funding-round/ae2a174c06517c2394aed45006322a7e   \n",
       "3  operating          USA  /funding-round/e1cfcbe1bdf4c70277c5f29a3482f24e   \n",
       "4   acquired          USA  /funding-round/b952cbaf401f310927430c97b68162ea   \n",
       "\n",
       "  funding_round_type   funded_at  raised_amount_usd primary_sector  \\\n",
       "0            venture  05-01-2015         10000000.0          media   \n",
       "1            venture  09-11-2015         20000000.0      analytics   \n",
       "2            venture  03-01-2013          1700000.0      analytics   \n",
       "3            venture  19-07-2014          8900000.0      analytics   \n",
       "4            venture  17-03-2015          5000000.0           apps   \n",
       "\n",
       "                  main_sector     _merge  \n",
       "0               Entertainment       both  \n",
       "1                         NaN  left_only  \n",
       "2                         NaN  left_only  \n",
       "3                         NaN  left_only  \n",
       "4  News, Search and Messaging       both  "
      ]
     },
     "execution_count": 99,
     "metadata": {},
     "output_type": "execute_result"
    }
   ],
   "source": [
    "top_eng_countries = pd.merge(top_eng_countries, mapping, how='left', on='primary_sector', indicator=True)\n",
    "top_eng_countries.head(5)"
   ]
  },
  {
   "cell_type": "code",
   "execution_count": 100,
   "metadata": {},
   "outputs": [
    {
     "data": {
      "text/html": [
       "<div>\n",
       "<style scoped>\n",
       "    .dataframe tbody tr th:only-of-type {\n",
       "        vertical-align: middle;\n",
       "    }\n",
       "\n",
       "    .dataframe tbody tr th {\n",
       "        vertical-align: top;\n",
       "    }\n",
       "\n",
       "    .dataframe thead th {\n",
       "        text-align: right;\n",
       "    }\n",
       "</style>\n",
       "<table border=\"1\" class=\"dataframe\">\n",
       "  <thead>\n",
       "    <tr style=\"text-align: right;\">\n",
       "      <th></th>\n",
       "      <th>permalink</th>\n",
       "      <th>name</th>\n",
       "      <th>category_list</th>\n",
       "      <th>status</th>\n",
       "      <th>country_code</th>\n",
       "      <th>funding_round_permalink</th>\n",
       "      <th>funding_round_type</th>\n",
       "      <th>funded_at</th>\n",
       "      <th>raised_amount_usd</th>\n",
       "      <th>primary_sector</th>\n",
       "      <th>main_sector</th>\n",
       "    </tr>\n",
       "  </thead>\n",
       "  <tbody>\n",
       "    <tr>\n",
       "      <th>0</th>\n",
       "      <td>/organization/-fame</td>\n",
       "      <td>#fame</td>\n",
       "      <td>Media</td>\n",
       "      <td>operating</td>\n",
       "      <td>IND</td>\n",
       "      <td>/funding-round/9a01d05418af9f794eebff7ace91f638</td>\n",
       "      <td>venture</td>\n",
       "      <td>05-01-2015</td>\n",
       "      <td>10000000.0</td>\n",
       "      <td>media</td>\n",
       "      <td>Entertainment</td>\n",
       "    </tr>\n",
       "    <tr>\n",
       "      <th>4</th>\n",
       "      <td>/organization/1-mainstream</td>\n",
       "      <td>1 Mainstream</td>\n",
       "      <td>Apps|Cable|Distribution|Software</td>\n",
       "      <td>acquired</td>\n",
       "      <td>USA</td>\n",
       "      <td>/funding-round/b952cbaf401f310927430c97b68162ea</td>\n",
       "      <td>venture</td>\n",
       "      <td>17-03-2015</td>\n",
       "      <td>5000000.0</td>\n",
       "      <td>apps</td>\n",
       "      <td>News, Search and Messaging</td>\n",
       "    </tr>\n",
       "    <tr>\n",
       "      <th>5</th>\n",
       "      <td>/organization/10-minutes-with</td>\n",
       "      <td>10 Minutes With</td>\n",
       "      <td>Education</td>\n",
       "      <td>operating</td>\n",
       "      <td>GBR</td>\n",
       "      <td>/funding-round/0faccbbcc5818dc5326469f13f5a8ac8</td>\n",
       "      <td>venture</td>\n",
       "      <td>09-10-2014</td>\n",
       "      <td>4000000.0</td>\n",
       "      <td>education</td>\n",
       "      <td>Others</td>\n",
       "    </tr>\n",
       "    <tr>\n",
       "      <th>6</th>\n",
       "      <td>/organization/1000memories</td>\n",
       "      <td>1000memories</td>\n",
       "      <td>Curated Web</td>\n",
       "      <td>acquired</td>\n",
       "      <td>USA</td>\n",
       "      <td>/funding-round/502bd0e50c27616995e4bdad24605ef8</td>\n",
       "      <td>venture</td>\n",
       "      <td>16-02-2011</td>\n",
       "      <td>2520000.0</td>\n",
       "      <td>curated web</td>\n",
       "      <td>News, Search and Messaging</td>\n",
       "    </tr>\n",
       "    <tr>\n",
       "      <th>7</th>\n",
       "      <td>/organization/1000museums-com</td>\n",
       "      <td>1000museums.com</td>\n",
       "      <td>Curated Web</td>\n",
       "      <td>operating</td>\n",
       "      <td>USA</td>\n",
       "      <td>/funding-round/13be128d655076a025221d7fddc90d68</td>\n",
       "      <td>venture</td>\n",
       "      <td>14-10-2009</td>\n",
       "      <td>265940.0</td>\n",
       "      <td>curated web</td>\n",
       "      <td>News, Search and Messaging</td>\n",
       "    </tr>\n",
       "  </tbody>\n",
       "</table>\n",
       "</div>"
      ],
      "text/plain": [
       "                       permalink             name  \\\n",
       "0            /organization/-fame            #fame   \n",
       "4     /organization/1-mainstream     1 Mainstream   \n",
       "5  /organization/10-minutes-with  10 Minutes With   \n",
       "6     /organization/1000memories     1000memories   \n",
       "7  /organization/1000museums-com  1000museums.com   \n",
       "\n",
       "                      category_list     status country_code  \\\n",
       "0                             Media  operating          IND   \n",
       "4  Apps|Cable|Distribution|Software   acquired          USA   \n",
       "5                         Education  operating          GBR   \n",
       "6                       Curated Web   acquired          USA   \n",
       "7                       Curated Web  operating          USA   \n",
       "\n",
       "                           funding_round_permalink funding_round_type  \\\n",
       "0  /funding-round/9a01d05418af9f794eebff7ace91f638            venture   \n",
       "4  /funding-round/b952cbaf401f310927430c97b68162ea            venture   \n",
       "5  /funding-round/0faccbbcc5818dc5326469f13f5a8ac8            venture   \n",
       "6  /funding-round/502bd0e50c27616995e4bdad24605ef8            venture   \n",
       "7  /funding-round/13be128d655076a025221d7fddc90d68            venture   \n",
       "\n",
       "    funded_at  raised_amount_usd primary_sector                 main_sector  \n",
       "0  05-01-2015         10000000.0          media               Entertainment  \n",
       "4  17-03-2015          5000000.0           apps  News, Search and Messaging  \n",
       "5  09-10-2014          4000000.0      education                      Others  \n",
       "6  16-02-2011          2520000.0    curated web  News, Search and Messaging  \n",
       "7  14-10-2009           265940.0    curated web  News, Search and Messaging  "
      ]
     },
     "execution_count": 100,
     "metadata": {},
     "output_type": "execute_result"
    }
   ],
   "source": [
    "top_eng_countries = top_eng_countries[top_eng_countries['_merge'] == 'both']\n",
    "top_eng_countries = top_eng_countries.drop('_merge', axis=1)\n",
    "top_eng_countries.head()"
   ]
  },
  {
   "cell_type": "code",
   "execution_count": 101,
   "metadata": {},
   "outputs": [],
   "source": [
    "top_eng_countries = top_eng_countries.drop(top_eng_countries[(top_eng_countries.raised_amount_usd < 5000000)].index)\n",
    "top_eng_countries = top_eng_countries.drop(top_eng_countries[(top_eng_countries.raised_amount_usd > 15000000)].index)"
   ]
  },
  {
   "cell_type": "code",
   "execution_count": 102,
   "metadata": {},
   "outputs": [],
   "source": [
    "d1 = top_eng_countries[top_eng_countries['country_code'] == 'USA']\n",
    "d2 = top_eng_countries[top_eng_countries['country_code'] == 'GBR']\n",
    "d3 = top_eng_countries[top_eng_countries['country_code'] == 'IND']"
   ]
  },
  {
   "cell_type": "code",
   "execution_count": 103,
   "metadata": {},
   "outputs": [
    {
     "data": {
      "text/plain": [
       "11149"
      ]
     },
     "execution_count": 103,
     "metadata": {},
     "output_type": "execute_result"
    }
   ],
   "source": [
    "len(d1)"
   ]
  },
  {
   "cell_type": "code",
   "execution_count": 104,
   "metadata": {},
   "outputs": [
    {
     "data": {
      "text/plain": [
       "577"
      ]
     },
     "execution_count": 104,
     "metadata": {},
     "output_type": "execute_result"
    }
   ],
   "source": [
    "len(d2)"
   ]
  },
  {
   "cell_type": "code",
   "execution_count": 105,
   "metadata": {},
   "outputs": [
    {
     "data": {
      "text/plain": [
       "299"
      ]
     },
     "execution_count": 105,
     "metadata": {},
     "output_type": "execute_result"
    }
   ],
   "source": [
    "len(d3)"
   ]
  },
  {
   "cell_type": "code",
   "execution_count": 106,
   "metadata": {},
   "outputs": [
    {
     "name": "stderr",
     "output_type": "stream",
     "text": [
      "/anaconda3/lib/python3.7/site-packages/scipy/stats/stats.py:1713: FutureWarning: Using a non-tuple sequence for multidimensional indexing is deprecated; use `arr[tuple(seq)]` instead of `arr[seq]`. In the future this will be interpreted as an array index, `arr[np.array(seq)]`, which will result either in an error or a different result.\n",
      "  return np.add.reduce(sorted[indexer] * weights, axis=axis) / sumval\n"
     ]
    },
    {
     "data": {
      "image/png": "[encoded data removed]",
      "text/plain": [
       "<Figure size 2160x720 with 2 Axes>"
      ]
     },
     "metadata": {
      "needs_background": "light"
     },
     "output_type": "display_data"
    }
   ],
   "source": [
    "plt.figure(figsize=(30, 10))\n",
    "plt.subplot(1, 2, 1)\n",
    "sns.countplot(y=\"main_sector\", data=d1)\n",
    "plt.title(\"Count\")\n",
    "plt.subplot(1, 2, 2)\n",
    "sns.barplot(y=\"main_sector\", x=\"raised_amount_usd\", data=d1, estimator=sum)\n",
    "plt.title(\"Sum\")\n",
    "plt.show()"
   ]
  },
  {
   "cell_type": "markdown",
   "metadata": {},
   "source": [
    "# USA\n",
    "* 'Others' is Top sector\n",
    "* 'Cleantech / Semiconductors' is second sector\n",
    "* 'Social, Finance, Analytics, Advertising' is third sector"
   ]
  },
  {
   "cell_type": "code",
   "execution_count": 107,
   "metadata": {},
   "outputs": [
    {
     "name": "stderr",
     "output_type": "stream",
     "text": [
      "/anaconda3/lib/python3.7/site-packages/scipy/stats/stats.py:1713: FutureWarning: Using a non-tuple sequence for multidimensional indexing is deprecated; use `arr[tuple(seq)]` instead of `arr[seq]`. In the future this will be interpreted as an array index, `arr[np.array(seq)]`, which will result either in an error or a different result.\n",
      "  return np.add.reduce(sorted[indexer] * weights, axis=axis) / sumval\n"
     ]
    },
    {
     "data": {
      "image/png": "[encoded data removed]",
      "text/plain": [
       "<Figure size 2160x720 with 2 Axes>"
      ]
     },
     "metadata": {
      "needs_background": "light"
     },
     "output_type": "display_data"
    }
   ],
   "source": [
    "plt.figure(figsize=(30, 10))\n",
    "plt.subplot(1, 2, 1)\n",
    "sns.countplot(y=\"main_sector\", data=d2)\n",
    "plt.title(\"Count\")\n",
    "plt.subplot(1, 2, 2)\n",
    "sns.barplot(y=\"main_sector\", x=\"raised_amount_usd\", data=d2, estimator=sum)\n",
    "plt.title(\"Sum\")\n",
    "plt.show()"
   ]
  },
  {
   "cell_type": "markdown",
   "metadata": {},
   "source": [
    "# GBR\n",
    "* 'Others' is Top sector\n",
    "* 'Cleantech / Semiconductors' is second sector\n",
    "* 'Social, Finance, Analytics, Advertising' is third sector"
   ]
  },
  {
   "cell_type": "code",
   "execution_count": 108,
   "metadata": {},
   "outputs": [
    {
     "name": "stderr",
     "output_type": "stream",
     "text": [
      "/anaconda3/lib/python3.7/site-packages/scipy/stats/stats.py:1713: FutureWarning: Using a non-tuple sequence for multidimensional indexing is deprecated; use `arr[tuple(seq)]` instead of `arr[seq]`. In the future this will be interpreted as an array index, `arr[np.array(seq)]`, which will result either in an error or a different result.\n",
      "  return np.add.reduce(sorted[indexer] * weights, axis=axis) / sumval\n"
     ]
    },
    {
     "data": {
      "image/png": "[encoded data removed]",
      "text/plain": [
       "<Figure size 2160x720 with 2 Axes>"
      ]
     },
     "metadata": {
      "needs_background": "light"
     },
     "output_type": "display_data"
    }
   ],
   "source": [
    "plt.figure(figsize=(30, 10))\n",
    "plt.subplot(1, 2, 1)\n",
    "sns.countplot(y=\"main_sector\", data=d3)\n",
    "plt.title(\"Count\")\n",
    "plt.subplot(1, 2, 2)\n",
    "sns.barplot(y=\"main_sector\", x=\"raised_amount_usd\", data=d3, estimator=sum)\n",
    "plt.title(\"Sum\")\n",
    "plt.show()"
   ]
  },
  {
   "cell_type": "markdown",
   "metadata": {},
   "source": [
    "# IND\n",
    "* 'Others' is Top sector\n",
    "* 'News, Search and Messaging' is second sector\n",
    "* 'Entertainment' is third sector"
   ]
  },
  {
   "cell_type": "code",
   "execution_count": 109,
   "metadata": {},
   "outputs": [
    {
     "name": "stderr",
     "output_type": "stream",
     "text": [
      "/anaconda3/lib/python3.7/site-packages/scipy/stats/stats.py:1713: FutureWarning: Using a non-tuple sequence for multidimensional indexing is deprecated; use `arr[tuple(seq)]` instead of `arr[seq]`. In the future this will be interpreted as an array index, `arr[np.array(seq)]`, which will result either in an error or a different result.\n",
      "  return np.add.reduce(sorted[indexer] * weights, axis=axis) / sumval\n"
     ]
    },
    {
     "data": {
      "image/png": "[encoded data removed]",
      "text/plain": [
       "<Figure size 1800x1440 with 1 Axes>"
      ]
     },
     "metadata": {
      "needs_background": "light"
     },
     "output_type": "display_data"
    }
   ],
   "source": [
    "plt.figure(figsize=(25, 20))\n",
    "sns.barplot(y='main_sector', x='raised_amount_usd', hue=\"country_code\", data=top_eng_countries, estimator=np.sum)\n",
    "\n",
    "plt.show()"
   ]
  },
  {
   "cell_type": "code",
   "execution_count": 110,
   "metadata": {},
   "outputs": [
    {
     "name": "stderr",
     "output_type": "stream",
     "text": [
      "/anaconda3/lib/python3.7/site-packages/scipy/stats/stats.py:1713: FutureWarning: Using a non-tuple sequence for multidimensional indexing is deprecated; use `arr[tuple(seq)]` instead of `arr[seq]`. In the future this will be interpreted as an array index, `arr[np.array(seq)]`, which will result either in an error or a different result.\n",
      "  return np.add.reduce(sorted[indexer] * weights, axis=axis) / sumval\n"
     ]
    },
    {
     "data": {
      "image/png": "[encoded data removed]",
      "text/plain": [
       "<Figure size 2160x1440 with 1 Axes>"
      ]
     },
     "metadata": {
      "needs_background": "light"
     },
     "output_type": "display_data"
    }
   ],
   "source": [
    "plt.figure(figsize=(30, 20))\n",
    "sns.barplot(y='country_code', x='raised_amount_usd', hue=\"main_sector\", data=top_eng_countries, estimator=np.sum)\n",
    "plt.show()"
   ]
  },
  {
   "cell_type": "code",
   "execution_count": 111,
   "metadata": {},
   "outputs": [
    {
     "data": {
      "text/plain": [
       "permalink\n",
       "/organization/virtustream            64300000.0\n",
       "/organization/capella                54968051.0\n",
       "/organization/airtight-networks      54201907.0\n",
       "/organization/decarta                52100000.0\n",
       "/organization/black-duck-software    51000000.0\n",
       "/organization/approva                50100000.0\n",
       "/organization/five9                  49600000.0\n",
       "/organization/bit9                   48433533.0\n",
       "/organization/aryaka-networks        48166500.0\n",
       "/organization/bti-systems            48000000.0\n",
       "Name: raised_amount_usd, dtype: float64"
      ]
     },
     "execution_count": 111,
     "metadata": {},
     "output_type": "execute_result"
    }
   ],
   "source": [
    "d1[d1['main_sector'] == \"Others\" ].groupby('permalink')['raised_amount_usd'].sum().sort_values(ascending=False).head(10)"
   ]
  },
  {
   "cell_type": "code",
   "execution_count": 112,
   "metadata": {},
   "outputs": [
    {
     "data": {
      "text/plain": [
       "permalink\n",
       "/organization/electric-cloud             37000000.0\n",
       "/organization/sensage                    36250000.0\n",
       "/organization/enigmatic                  32500000.0\n",
       "/organization/silverrail-technologies    29000000.0\n",
       "/organization/opencloud                  27972766.0\n",
       "/organization/myoptique-group            27694613.0\n",
       "/organization/notonthehighstreet         26900000.0\n",
       "/organization/acs-clothing               26239014.0\n",
       "/organization/tribold                    26000000.0\n",
       "/organization/ip-access                  25000000.0\n",
       "Name: raised_amount_usd, dtype: float64"
      ]
     },
     "execution_count": 112,
     "metadata": {},
     "output_type": "execute_result"
    }
   ],
   "source": [
    "d2[d2['main_sector'] == \"Others\" ].groupby('permalink')['raised_amount_usd'].sum().sort_values(ascending=False).head(10)"
   ]
  },
  {
   "cell_type": "code",
   "execution_count": 113,
   "metadata": {},
   "outputs": [
    {
     "data": {
      "text/plain": [
       "permalink\n",
       "/organization/firstcry-com                                                              39000000.0\n",
       "/organization/myntra                                                                    38000000.0\n",
       "/organization/commonfloor                                                               32900000.0\n",
       "/organization/pepperfry-com                                                             28000000.0\n",
       "/organization/itzcash-card-ltd                                                          25000000.0\n",
       "/organization/nxtgen-data-center-cloud-services                                         22300000.0\n",
       "/organization/maharana-infrastructure-and-professional-services-private-limited-mips    21600000.0\n",
       "/organization/comat-technologies                                                        21000000.0\n",
       "/organization/caratlane                                                                 21000000.0\n",
       "/organization/roposo                                                                    20000000.0\n",
       "Name: raised_amount_usd, dtype: float64"
      ]
     },
     "execution_count": 113,
     "metadata": {},
     "output_type": "execute_result"
    }
   ],
   "source": [
    "d3[d3['main_sector'] == \"Others\" ].groupby('permalink')['raised_amount_usd'].sum().sort_values(ascending=False).head(10)"
   ]
  },
  {
   "cell_type": "code",
   "execution_count": 114,
   "metadata": {},
   "outputs": [
    {
     "data": {
      "text/plain": [
       "permalink\n",
       "/organization/biodesix              75300000.0\n",
       "/organization/tigo-energy           68739496.0\n",
       "/organization/forsight-labs         61300001.0\n",
       "/organization/rheonix               56124758.0\n",
       "/organization/scienergy             55375423.0\n",
       "/organization/alung-technologies    54110403.0\n",
       "/organization/metabolon             52420551.0\n",
       "/organization/stretch               52000000.0\n",
       "/organization/irhythm               50500000.0\n",
       "/organization/ocular-therapeutix    49500000.0\n",
       "Name: raised_amount_usd, dtype: float64"
      ]
     },
     "execution_count": 114,
     "metadata": {},
     "output_type": "execute_result"
    }
   ],
   "source": [
    "d1[d1['main_sector'] == \"Cleantech / Semiconductors\" ].groupby('permalink')['raised_amount_usd'].sum().sort_values(ascending=False).head(10)"
   ]
  },
  {
   "cell_type": "code",
   "execution_count": 115,
   "metadata": {},
   "outputs": [
    {
     "data": {
      "text/plain": [
       "permalink\n",
       "/organization/eusa-pharma                                                      35600000.0\n",
       "/organization/horizon-discovery                                                31353719.0\n",
       "/organization/f-star-biotechnologische-forschungs-und-entwicklungsges-m-b-h    29132906.0\n",
       "/organization/elixent                                                          25000000.0\n",
       "/organization/takeda-cambridge                                                 22340000.0\n",
       "/organization/immune-targeting-systems                                         20320961.0\n",
       "/organization/plaxica                                                          19940192.0\n",
       "/organization/i2o-water                                                        19491529.0\n",
       "/organization/xention                                                          19051289.0\n",
       "/organization/oxford-photovoltaics                                             18820357.0\n",
       "Name: raised_amount_usd, dtype: float64"
      ]
     },
     "execution_count": 115,
     "metadata": {},
     "output_type": "execute_result"
    }
   ],
   "source": [
    "d2[d2['main_sector'] == \"Cleantech / Semiconductors\" ].groupby('permalink')['raised_amount_usd'].sum().sort_values(ascending=False).head(10)"
   ]
  },
  {
   "cell_type": "code",
   "execution_count": 116,
   "metadata": {},
   "outputs": [
    {
     "data": {
      "text/plain": [
       "permalink\n",
       "/organization/gupshup-technology-india-pvt-ltd    33000000.0\n",
       "/organization/imimobile                           23000000.0\n",
       "/organization/sms-gupshup                         22000000.0\n",
       "/organization/hike                                21000000.0\n",
       "/organization/roadrunnr                           21000000.0\n",
       "/organization/matrimony-com                       20400000.0\n",
       "/organization/guruji                              15000000.0\n",
       "/organization/bluestone-com                       15000000.0\n",
       "/organization/mobile2win-india                    15000000.0\n",
       "/organization/quikr-india                         14000000.0\n",
       "Name: raised_amount_usd, dtype: float64"
      ]
     },
     "execution_count": 116,
     "metadata": {},
     "output_type": "execute_result"
    }
   ],
   "source": [
    "d3[d3['main_sector'] == \"News, Search and Messaging\" ].groupby('permalink')['raised_amount_usd'].sum().sort_values(ascending=False).head(10)"
   ]
  },
  {
   "cell_type": "code",
   "execution_count": 117,
   "metadata": {},
   "outputs": [
    {
     "data": {
      "text/plain": [
       "main_sector\n",
       "Others                                     2923\n",
       "Cleantech / Semiconductors                 2297\n",
       "Social, Finance, Analytics, Advertising    1912\n",
       "News, Search and Messaging                 1563\n",
       "Health                                      908\n",
       "Manufacturing                               799\n",
       "Entertainment                               580\n",
       "Automotive & Sports                         167\n",
       "Name: raised_amount_usd, dtype: int64"
      ]
     },
     "execution_count": 117,
     "metadata": {},
     "output_type": "execute_result"
    }
   ],
   "source": [
    "d1.groupby('main_sector')['raised_amount_usd'].count().sort_values(ascending=False)"
   ]
  },
  {
   "cell_type": "code",
   "execution_count": 118,
   "metadata": {},
   "outputs": [
    {
     "data": {
      "text/plain": [
       "main_sector\n",
       "Others                                     143\n",
       "Cleantech / Semiconductors                 127\n",
       "Social, Finance, Analytics, Advertising     98\n",
       "News, Search and Messaging                  73\n",
       "Entertainment                               54\n",
       "Manufacturing                               42\n",
       "Health                                      24\n",
       "Automotive & Sports                         16\n",
       "Name: raised_amount_usd, dtype: int64"
      ]
     },
     "execution_count": 118,
     "metadata": {},
     "output_type": "execute_result"
    }
   ],
   "source": [
    "d2.groupby('main_sector')['raised_amount_usd'].count().sort_values(ascending=False)"
   ]
  },
  {
   "cell_type": "code",
   "execution_count": 119,
   "metadata": {},
   "outputs": [
    {
     "data": {
      "text/plain": [
       "main_sector\n",
       "Others                                     109\n",
       "News, Search and Messaging                  52\n",
       "Entertainment                               33\n",
       "Social, Finance, Analytics, Advertising     32\n",
       "Manufacturing                               21\n",
       "Cleantech / Semiconductors                  20\n",
       "Health                                      19\n",
       "Automotive & Sports                         13\n",
       "Name: raised_amount_usd, dtype: int64"
      ]
     },
     "execution_count": 119,
     "metadata": {},
     "output_type": "execute_result"
    }
   ],
   "source": [
    "d3.groupby('main_sector')['raised_amount_usd'].count().sort_values(ascending=False)"
   ]
  },
  {
   "cell_type": "code",
   "execution_count": 121,
   "metadata": {},
   "outputs": [
    {
     "data": {
      "text/plain": [
       "main_sector\n",
       "Others                                     2.608928e+10\n",
       "Cleantech / Semiconductors                 2.118100e+10\n",
       "Social, Finance, Analytics, Advertising    1.668070e+10\n",
       "News, Search and Messaging                 1.379682e+10\n",
       "Health                                     8.200859e+09\n",
       "Manufacturing                              7.258553e+09\n",
       "Entertainment                              5.000213e+09\n",
       "Automotive & Sports                        1.454104e+09\n",
       "Name: raised_amount_usd, dtype: float64"
      ]
     },
     "execution_count": 121,
     "metadata": {},
     "output_type": "execute_result"
    }
   ],
   "source": [
    "d1.groupby('main_sector')['raised_amount_usd'].sum().sort_values(ascending=False)"
   ]
  },
  {
   "cell_type": "code",
   "execution_count": 122,
   "metadata": {},
   "outputs": [
    {
     "data": {
      "text/plain": [
       "99661524549.0"
      ]
     },
     "execution_count": 122,
     "metadata": {},
     "output_type": "execute_result"
    }
   ],
   "source": [
    "d1['raised_amount_usd'].sum()"
   ]
  },
  {
   "cell_type": "code",
   "execution_count": 123,
   "metadata": {},
   "outputs": [
    {
     "data": {
      "text/plain": [
       "5028704358.0"
      ]
     },
     "execution_count": 123,
     "metadata": {},
     "output_type": "execute_result"
    }
   ],
   "source": [
    "d2['raised_amount_usd'].sum()"
   ]
  },
  {
   "cell_type": "code",
   "execution_count": 124,
   "metadata": {},
   "outputs": [
    {
     "data": {
      "text/plain": [
       "2683537552.0"
      ]
     },
     "execution_count": 124,
     "metadata": {},
     "output_type": "execute_result"
    }
   ],
   "source": [
    "d3['raised_amount_usd'].sum()"
   ]
  },
  {
   "cell_type": "code",
   "execution_count": 125,
   "metadata": {},
   "outputs": [
    {
     "name": "stderr",
     "output_type": "stream",
     "text": [
      "/anaconda3/lib/python3.7/site-packages/scipy/stats/stats.py:1713: FutureWarning: Using a non-tuple sequence for multidimensional indexing is deprecated; use `arr[tuple(seq)]` instead of `arr[seq]`. In the future this will be interpreted as an array index, `arr[np.array(seq)]`, which will result either in an error or a different result.\n",
      "  return np.add.reduce(sorted[indexer] * weights, axis=axis) / sumval\n"
     ]
    },
    {
     "data": {
      "image/png": "[encoded data removed]",
      "text/plain": [
       "<Figure size 1440x720 with 1 Axes>"
      ]
     },
     "metadata": {
      "needs_background": "light"
     },
     "output_type": "display_data"
    }
   ],
   "source": [
    "col_list = [d1, d2, d3]\n",
    "concat_df = pd.concat(col_list)\n",
    "plt.figure(figsize=(20, 10))\n",
    "sns.barplot(y='country_code', x='raised_amount_usd', hue=\"main_sector\", data=concat_df, estimator=np.sum)\n",
    "plt.title(\"Depicting potential choices of investment\")\n",
    "plt.xlabel('Raised amount(USD)')\n",
    "plt.ylabel('Country')\n",
    "plt.show()"
   ]
  },
  {
   "cell_type": "code",
   "execution_count": null,
   "metadata": {},
   "outputs": [],
   "source": []
  }
 ],
 "metadata": {
  "kernelspec": {
   "display_name": "Python 3",
   "language": "python",
   "name": "python3"
  },
  "language_info": {
   "codemirror_mode": {
    "name": "ipython",
    "version": 3
   },
   "file_extension": ".py",
   "mimetype": "text/x-python",
   "name": "python",
   "nbconvert_exporter": "python",
   "pygments_lexer": "ipython3",
   "version": "3.7.0"
  }
 },
 "nbformat": 4,
 "nbformat_minor": 2
}
